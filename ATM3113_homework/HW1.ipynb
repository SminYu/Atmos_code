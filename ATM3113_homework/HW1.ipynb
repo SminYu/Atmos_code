{
 "cells": [
  {
   "cell_type": "code",
   "execution_count": 1,
   "metadata": {},
   "outputs": [],
   "source": [
    "import numpy as np\n",
    "import matplotlib.pyplot as plt\n",
    "import pandas as pd\n",
    "from scipy.stats import skew\n",
    "import seaborn as sns\n",
    "from pandas.plotting import scatter_matrix"
   ]
  },
  {
   "cell_type": "code",
   "execution_count": 2,
   "metadata": {
    "scrolled": true
   },
   "outputs": [],
   "source": [
    "f_tm=pd.read_csv('data/seoul tm.csv').iloc[:,1:13] # 평균기온\n",
    "f_tx=pd.read_csv('data/seoul tx.csv').iloc[:,1:13] # 최고기온\n",
    "f_tn=pd.read_csv('data/seoul tn.csv').iloc[:,1:13] # 최저기온\n",
    "f_pt=pd.read_csv('data/seoul pt.csv').fillna(0).iloc[:,1:13] # 강수량\n",
    "f_pm=pd.read_csv('data/seoul pm.csv').iloc[:,1:13] # 미세먼지"
   ]
  },
  {
   "cell_type": "code",
   "execution_count": 3,
   "metadata": {},
   "outputs": [
    {
     "data": {
      "text/html": [
       "<div>\n",
       "<style scoped>\n",
       "    .dataframe tbody tr th:only-of-type {\n",
       "        vertical-align: middle;\n",
       "    }\n",
       "\n",
       "    .dataframe tbody tr th {\n",
       "        vertical-align: top;\n",
       "    }\n",
       "\n",
       "    .dataframe thead th {\n",
       "        text-align: right;\n",
       "    }\n",
       "</style>\n",
       "<table border=\"1\" class=\"dataframe\">\n",
       "  <thead>\n",
       "    <tr style=\"text-align: right;\">\n",
       "      <th></th>\n",
       "      <th>mean</th>\n",
       "      <th>std</th>\n",
       "      <th>skew</th>\n",
       "    </tr>\n",
       "  </thead>\n",
       "  <tbody>\n",
       "    <tr>\n",
       "      <th>201809</th>\n",
       "      <td>21.496667</td>\n",
       "      <td>2.304790</td>\n",
       "      <td>-0.338662</td>\n",
       "    </tr>\n",
       "    <tr>\n",
       "      <th>201810</th>\n",
       "      <td>13.054839</td>\n",
       "      <td>3.232011</td>\n",
       "      <td>-0.376553</td>\n",
       "    </tr>\n",
       "    <tr>\n",
       "      <th>201811</th>\n",
       "      <td>7.793333</td>\n",
       "      <td>3.380056</td>\n",
       "      <td>-0.179359</td>\n",
       "    </tr>\n",
       "    <tr>\n",
       "      <th>201812</th>\n",
       "      <td>-0.606452</td>\n",
       "      <td>5.650365</td>\n",
       "      <td>0.072157</td>\n",
       "    </tr>\n",
       "    <tr>\n",
       "      <th>201901</th>\n",
       "      <td>-0.896774</td>\n",
       "      <td>2.439875</td>\n",
       "      <td>-0.121434</td>\n",
       "    </tr>\n",
       "    <tr>\n",
       "      <th>201902</th>\n",
       "      <td>0.985714</td>\n",
       "      <td>3.906852</td>\n",
       "      <td>0.009459</td>\n",
       "    </tr>\n",
       "    <tr>\n",
       "      <th>201903</th>\n",
       "      <td>7.093548</td>\n",
       "      <td>2.455733</td>\n",
       "      <td>0.105503</td>\n",
       "    </tr>\n",
       "    <tr>\n",
       "      <th>201904</th>\n",
       "      <td>12.120000</td>\n",
       "      <td>3.688042</td>\n",
       "      <td>0.472783</td>\n",
       "    </tr>\n",
       "    <tr>\n",
       "      <th>201905</th>\n",
       "      <td>19.419355</td>\n",
       "      <td>2.769166</td>\n",
       "      <td>0.234231</td>\n",
       "    </tr>\n",
       "    <tr>\n",
       "      <th>201906</th>\n",
       "      <td>22.503333</td>\n",
       "      <td>1.891083</td>\n",
       "      <td>-0.087770</td>\n",
       "    </tr>\n",
       "    <tr>\n",
       "      <th>201907</th>\n",
       "      <td>25.877419</td>\n",
       "      <td>1.837518</td>\n",
       "      <td>-0.009354</td>\n",
       "    </tr>\n",
       "    <tr>\n",
       "      <th>201908</th>\n",
       "      <td>27.190323</td>\n",
       "      <td>2.380666</td>\n",
       "      <td>0.143545</td>\n",
       "    </tr>\n",
       "    <tr>\n",
       "      <th>year</th>\n",
       "      <td>13.068767</td>\n",
       "      <td>10.317384</td>\n",
       "      <td>-0.173841</td>\n",
       "    </tr>\n",
       "  </tbody>\n",
       "</table>\n",
       "</div>"
      ],
      "text/plain": [
       "             mean        std      skew\n",
       "201809  21.496667   2.304790 -0.338662\n",
       "201810  13.054839   3.232011 -0.376553\n",
       "201811   7.793333   3.380056 -0.179359\n",
       "201812  -0.606452   5.650365  0.072157\n",
       "201901  -0.896774   2.439875 -0.121434\n",
       "201902   0.985714   3.906852  0.009459\n",
       "201903   7.093548   2.455733  0.105503\n",
       "201904  12.120000   3.688042  0.472783\n",
       "201905  19.419355   2.769166  0.234231\n",
       "201906  22.503333   1.891083 -0.087770\n",
       "201907  25.877419   1.837518 -0.009354\n",
       "201908  27.190323   2.380666  0.143545\n",
       "year    13.068767  10.317384 -0.173841"
      ]
     },
     "execution_count": 3,
     "metadata": {},
     "output_type": "execute_result"
    }
   ],
   "source": [
    "ff_tm = f_tm.mean().to_frame('mean')\n",
    "ff_tm = f_tm.std().to_frame('std').join(ff_tm)\n",
    "ff_tm = f_tm.skew().to_frame('skew').join(ff_tm)\n",
    "ff_tm.loc['year','mean'] = f_tm.stack().mean()\n",
    "ff_tm.loc['year','std'] = f_tm.stack().std()\n",
    "ff_tm.loc['year','skew'] = f_tm.stack().skew()\n",
    "ff_tm.iloc[:,::-1].to_csv('tm.csv')\n",
    "ff_tm.iloc[:,::-1]"
   ]
  },
  {
   "cell_type": "code",
   "execution_count": 4,
   "metadata": {},
   "outputs": [
    {
     "data": {
      "text/html": [
       "<div>\n",
       "<style scoped>\n",
       "    .dataframe tbody tr th:only-of-type {\n",
       "        vertical-align: middle;\n",
       "    }\n",
       "\n",
       "    .dataframe tbody tr th {\n",
       "        vertical-align: top;\n",
       "    }\n",
       "\n",
       "    .dataframe thead th {\n",
       "        text-align: right;\n",
       "    }\n",
       "</style>\n",
       "<table border=\"1\" class=\"dataframe\">\n",
       "  <thead>\n",
       "    <tr style=\"text-align: right;\">\n",
       "      <th></th>\n",
       "      <th>mean</th>\n",
       "      <th>std</th>\n",
       "      <th>skew</th>\n",
       "    </tr>\n",
       "  </thead>\n",
       "  <tbody>\n",
       "    <tr>\n",
       "      <th>201809</th>\n",
       "      <td>26.040000</td>\n",
       "      <td>2.593041</td>\n",
       "      <td>-0.520139</td>\n",
       "    </tr>\n",
       "    <tr>\n",
       "      <th>201810</th>\n",
       "      <td>18.612903</td>\n",
       "      <td>3.696732</td>\n",
       "      <td>-0.594319</td>\n",
       "    </tr>\n",
       "    <tr>\n",
       "      <th>201811</th>\n",
       "      <td>13.153333</td>\n",
       "      <td>4.156651</td>\n",
       "      <td>-0.390338</td>\n",
       "    </tr>\n",
       "    <tr>\n",
       "      <th>201812</th>\n",
       "      <td>4.087097</td>\n",
       "      <td>5.685463</td>\n",
       "      <td>-0.085040</td>\n",
       "    </tr>\n",
       "    <tr>\n",
       "      <th>201901</th>\n",
       "      <td>4.087097</td>\n",
       "      <td>2.667051</td>\n",
       "      <td>-0.134544</td>\n",
       "    </tr>\n",
       "    <tr>\n",
       "      <th>201902</th>\n",
       "      <td>6.046429</td>\n",
       "      <td>4.894705</td>\n",
       "      <td>0.179400</td>\n",
       "    </tr>\n",
       "    <tr>\n",
       "      <th>201903</th>\n",
       "      <td>12.445161</td>\n",
       "      <td>2.978236</td>\n",
       "      <td>-0.073346</td>\n",
       "    </tr>\n",
       "    <tr>\n",
       "      <th>201904</th>\n",
       "      <td>17.640000</td>\n",
       "      <td>4.521260</td>\n",
       "      <td>0.395462</td>\n",
       "    </tr>\n",
       "    <tr>\n",
       "      <th>201905</th>\n",
       "      <td>25.641935</td>\n",
       "      <td>3.327239</td>\n",
       "      <td>0.169518</td>\n",
       "    </tr>\n",
       "    <tr>\n",
       "      <th>201906</th>\n",
       "      <td>27.706667</td>\n",
       "      <td>2.446522</td>\n",
       "      <td>-0.165599</td>\n",
       "    </tr>\n",
       "    <tr>\n",
       "      <th>201907</th>\n",
       "      <td>30.087097</td>\n",
       "      <td>2.749878</td>\n",
       "      <td>0.437351</td>\n",
       "    </tr>\n",
       "    <tr>\n",
       "      <th>201908</th>\n",
       "      <td>31.635484</td>\n",
       "      <td>3.058709</td>\n",
       "      <td>0.227514</td>\n",
       "    </tr>\n",
       "    <tr>\n",
       "      <th>year</th>\n",
       "      <td>18.164384</td>\n",
       "      <td>10.396819</td>\n",
       "      <td>-0.246249</td>\n",
       "    </tr>\n",
       "  </tbody>\n",
       "</table>\n",
       "</div>"
      ],
      "text/plain": [
       "             mean        std      skew\n",
       "201809  26.040000   2.593041 -0.520139\n",
       "201810  18.612903   3.696732 -0.594319\n",
       "201811  13.153333   4.156651 -0.390338\n",
       "201812   4.087097   5.685463 -0.085040\n",
       "201901   4.087097   2.667051 -0.134544\n",
       "201902   6.046429   4.894705  0.179400\n",
       "201903  12.445161   2.978236 -0.073346\n",
       "201904  17.640000   4.521260  0.395462\n",
       "201905  25.641935   3.327239  0.169518\n",
       "201906  27.706667   2.446522 -0.165599\n",
       "201907  30.087097   2.749878  0.437351\n",
       "201908  31.635484   3.058709  0.227514\n",
       "year    18.164384  10.396819 -0.246249"
      ]
     },
     "execution_count": 4,
     "metadata": {},
     "output_type": "execute_result"
    }
   ],
   "source": [
    "ff_tx = f_tx.mean().to_frame('mean')\n",
    "ff_tx = f_tx.std().to_frame('std').join(ff_tx)\n",
    "ff_tx = f_tx.skew().to_frame('skew').join(ff_tx)\n",
    "ff_tx.loc['year','mean'] = f_tx.stack().mean()\n",
    "ff_tx.loc['year','std'] = f_tx.stack().std()\n",
    "ff_tx.loc['year','skew'] = f_tx.stack().skew()\n",
    "ff_tx.iloc[:,::-1].to_csv('tx.csv')\n",
    "ff_tx.iloc[:,::-1]"
   ]
  },
  {
   "cell_type": "code",
   "execution_count": 5,
   "metadata": {},
   "outputs": [
    {
     "data": {
      "text/html": [
       "<div>\n",
       "<style scoped>\n",
       "    .dataframe tbody tr th:only-of-type {\n",
       "        vertical-align: middle;\n",
       "    }\n",
       "\n",
       "    .dataframe tbody tr th {\n",
       "        vertical-align: top;\n",
       "    }\n",
       "\n",
       "    .dataframe thead th {\n",
       "        text-align: right;\n",
       "    }\n",
       "</style>\n",
       "<table border=\"1\" class=\"dataframe\">\n",
       "  <thead>\n",
       "    <tr style=\"text-align: right;\">\n",
       "      <th></th>\n",
       "      <th>mean</th>\n",
       "      <th>std</th>\n",
       "      <th>skew</th>\n",
       "    </tr>\n",
       "  </thead>\n",
       "  <tbody>\n",
       "    <tr>\n",
       "      <th>201809</th>\n",
       "      <td>17.626667</td>\n",
       "      <td>2.750289</td>\n",
       "      <td>-0.540771</td>\n",
       "    </tr>\n",
       "    <tr>\n",
       "      <th>201810</th>\n",
       "      <td>8.496774</td>\n",
       "      <td>3.482766</td>\n",
       "      <td>0.204537</td>\n",
       "    </tr>\n",
       "    <tr>\n",
       "      <th>201811</th>\n",
       "      <td>3.626667</td>\n",
       "      <td>3.461307</td>\n",
       "      <td>0.319628</td>\n",
       "    </tr>\n",
       "    <tr>\n",
       "      <th>201812</th>\n",
       "      <td>-4.693548</td>\n",
       "      <td>5.473447</td>\n",
       "      <td>0.302302</td>\n",
       "    </tr>\n",
       "    <tr>\n",
       "      <th>201901</th>\n",
       "      <td>-5.064516</td>\n",
       "      <td>2.704262</td>\n",
       "      <td>0.187922</td>\n",
       "    </tr>\n",
       "    <tr>\n",
       "      <th>201902</th>\n",
       "      <td>-3.217857</td>\n",
       "      <td>3.921362</td>\n",
       "      <td>0.039895</td>\n",
       "    </tr>\n",
       "    <tr>\n",
       "      <th>201903</th>\n",
       "      <td>2.745161</td>\n",
       "      <td>2.806046</td>\n",
       "      <td>0.406201</td>\n",
       "    </tr>\n",
       "    <tr>\n",
       "      <th>201904</th>\n",
       "      <td>7.176667</td>\n",
       "      <td>3.706442</td>\n",
       "      <td>0.419661</td>\n",
       "    </tr>\n",
       "    <tr>\n",
       "      <th>201905</th>\n",
       "      <td>13.729032</td>\n",
       "      <td>2.896457</td>\n",
       "      <td>0.207363</td>\n",
       "    </tr>\n",
       "    <tr>\n",
       "      <th>201906</th>\n",
       "      <td>18.060000</td>\n",
       "      <td>2.105756</td>\n",
       "      <td>0.192374</td>\n",
       "    </tr>\n",
       "    <tr>\n",
       "      <th>201907</th>\n",
       "      <td>22.683871</td>\n",
       "      <td>2.120864</td>\n",
       "      <td>-0.025539</td>\n",
       "    </tr>\n",
       "    <tr>\n",
       "      <th>201908</th>\n",
       "      <td>23.590323</td>\n",
       "      <td>2.256155</td>\n",
       "      <td>-0.392641</td>\n",
       "    </tr>\n",
       "    <tr>\n",
       "      <th>year</th>\n",
       "      <td>8.796438</td>\n",
       "      <td>10.463837</td>\n",
       "      <td>-0.074465</td>\n",
       "    </tr>\n",
       "  </tbody>\n",
       "</table>\n",
       "</div>"
      ],
      "text/plain": [
       "             mean        std      skew\n",
       "201809  17.626667   2.750289 -0.540771\n",
       "201810   8.496774   3.482766  0.204537\n",
       "201811   3.626667   3.461307  0.319628\n",
       "201812  -4.693548   5.473447  0.302302\n",
       "201901  -5.064516   2.704262  0.187922\n",
       "201902  -3.217857   3.921362  0.039895\n",
       "201903   2.745161   2.806046  0.406201\n",
       "201904   7.176667   3.706442  0.419661\n",
       "201905  13.729032   2.896457  0.207363\n",
       "201906  18.060000   2.105756  0.192374\n",
       "201907  22.683871   2.120864 -0.025539\n",
       "201908  23.590323   2.256155 -0.392641\n",
       "year     8.796438  10.463837 -0.074465"
      ]
     },
     "execution_count": 5,
     "metadata": {},
     "output_type": "execute_result"
    }
   ],
   "source": [
    "ff_tn = f_tn.mean().to_frame('mean')\n",
    "ff_tn = f_tn.std().to_frame('std').join(ff_tn)\n",
    "ff_tn = f_tn.skew().to_frame('skew').join(ff_tn)\n",
    "ff_tn.loc['year','mean'] = f_tn.stack().mean()\n",
    "ff_tn.loc['year','std'] = f_tn.stack().std()\n",
    "ff_tn.loc['year','skew'] = f_tn.stack().skew()\n",
    "ff_tn.iloc[:,::-1].to_csv('tn.csv')\n",
    "ff_tn.iloc[:,::-1]"
   ]
  },
  {
   "cell_type": "code",
   "execution_count": 6,
   "metadata": {},
   "outputs": [
    {
     "data": {
      "text/html": [
       "<div>\n",
       "<style scoped>\n",
       "    .dataframe tbody tr th:only-of-type {\n",
       "        vertical-align: middle;\n",
       "    }\n",
       "\n",
       "    .dataframe tbody tr th {\n",
       "        vertical-align: top;\n",
       "    }\n",
       "\n",
       "    .dataframe thead th {\n",
       "        text-align: right;\n",
       "    }\n",
       "</style>\n",
       "<table border=\"1\" class=\"dataframe\">\n",
       "  <thead>\n",
       "    <tr style=\"text-align: right;\">\n",
       "      <th></th>\n",
       "      <th>mean</th>\n",
       "      <th>std</th>\n",
       "      <th>skew</th>\n",
       "    </tr>\n",
       "  </thead>\n",
       "  <tbody>\n",
       "    <tr>\n",
       "      <th>201809</th>\n",
       "      <td>2.209677</td>\n",
       "      <td>6.917917</td>\n",
       "      <td>4.030864</td>\n",
       "    </tr>\n",
       "    <tr>\n",
       "      <th>201810</th>\n",
       "      <td>3.887097</td>\n",
       "      <td>11.788914</td>\n",
       "      <td>3.721220</td>\n",
       "    </tr>\n",
       "    <tr>\n",
       "      <th>201811</th>\n",
       "      <td>2.551613</td>\n",
       "      <td>11.574422</td>\n",
       "      <td>5.335178</td>\n",
       "    </tr>\n",
       "    <tr>\n",
       "      <th>201812</th>\n",
       "      <td>0.529032</td>\n",
       "      <td>1.901262</td>\n",
       "      <td>4.188784</td>\n",
       "    </tr>\n",
       "    <tr>\n",
       "      <th>201901</th>\n",
       "      <td>0.000000</td>\n",
       "      <td>0.000000</td>\n",
       "      <td>0.000000</td>\n",
       "    </tr>\n",
       "    <tr>\n",
       "      <th>201902</th>\n",
       "      <td>0.767742</td>\n",
       "      <td>2.967085</td>\n",
       "      <td>4.886027</td>\n",
       "    </tr>\n",
       "    <tr>\n",
       "      <th>201903</th>\n",
       "      <td>0.864516</td>\n",
       "      <td>3.046041</td>\n",
       "      <td>4.841016</td>\n",
       "    </tr>\n",
       "    <tr>\n",
       "      <th>201904</th>\n",
       "      <td>1.525806</td>\n",
       "      <td>3.810159</td>\n",
       "      <td>3.205879</td>\n",
       "    </tr>\n",
       "    <tr>\n",
       "      <th>201905</th>\n",
       "      <td>1.219355</td>\n",
       "      <td>4.335929</td>\n",
       "      <td>4.172280</td>\n",
       "    </tr>\n",
       "    <tr>\n",
       "      <th>201906</th>\n",
       "      <td>2.400000</td>\n",
       "      <td>6.893427</td>\n",
       "      <td>4.057790</td>\n",
       "    </tr>\n",
       "    <tr>\n",
       "      <th>201907</th>\n",
       "      <td>6.270968</td>\n",
       "      <td>15.529009</td>\n",
       "      <td>3.171706</td>\n",
       "    </tr>\n",
       "    <tr>\n",
       "      <th>201908</th>\n",
       "      <td>6.145161</td>\n",
       "      <td>12.871152</td>\n",
       "      <td>2.713562</td>\n",
       "    </tr>\n",
       "    <tr>\n",
       "      <th>year</th>\n",
       "      <td>2.364247</td>\n",
       "      <td>8.432947</td>\n",
       "      <td>5.219517</td>\n",
       "    </tr>\n",
       "  </tbody>\n",
       "</table>\n",
       "</div>"
      ],
      "text/plain": [
       "            mean        std      skew\n",
       "201809  2.209677   6.917917  4.030864\n",
       "201810  3.887097  11.788914  3.721220\n",
       "201811  2.551613  11.574422  5.335178\n",
       "201812  0.529032   1.901262  4.188784\n",
       "201901  0.000000   0.000000  0.000000\n",
       "201902  0.767742   2.967085  4.886027\n",
       "201903  0.864516   3.046041  4.841016\n",
       "201904  1.525806   3.810159  3.205879\n",
       "201905  1.219355   4.335929  4.172280\n",
       "201906  2.400000   6.893427  4.057790\n",
       "201907  6.270968  15.529009  3.171706\n",
       "201908  6.145161  12.871152  2.713562\n",
       "year    2.364247   8.432947  5.219517"
      ]
     },
     "execution_count": 6,
     "metadata": {},
     "output_type": "execute_result"
    }
   ],
   "source": [
    "ff_pt = f_pt.mean().to_frame('mean')\n",
    "ff_pt = f_pt.std().to_frame('std').join(ff_pt)\n",
    "ff_pt = f_pt.skew().to_frame('skew').join(ff_pt)\n",
    "ff_pt.loc['year','mean'] = f_pt.stack().mean()\n",
    "ff_pt.loc['year','std'] = f_pt.stack().std()\n",
    "ff_pt.loc['year','skew'] = f_pt.stack().skew()\n",
    "ff_pt.iloc[:,::-1].to_csv('pt.csv')\n",
    "ff_pt.iloc[:,::-1]"
   ]
  },
  {
   "cell_type": "code",
   "execution_count": 7,
   "metadata": {},
   "outputs": [
    {
     "data": {
      "text/html": [
       "<div>\n",
       "<style scoped>\n",
       "    .dataframe tbody tr th:only-of-type {\n",
       "        vertical-align: middle;\n",
       "    }\n",
       "\n",
       "    .dataframe tbody tr th {\n",
       "        vertical-align: top;\n",
       "    }\n",
       "\n",
       "    .dataframe thead th {\n",
       "        text-align: right;\n",
       "    }\n",
       "</style>\n",
       "<table border=\"1\" class=\"dataframe\">\n",
       "  <thead>\n",
       "    <tr style=\"text-align: right;\">\n",
       "      <th></th>\n",
       "      <th>mean</th>\n",
       "      <th>std</th>\n",
       "      <th>skew</th>\n",
       "    </tr>\n",
       "  </thead>\n",
       "  <tbody>\n",
       "    <tr>\n",
       "      <th>201809</th>\n",
       "      <td>10.430998</td>\n",
       "      <td>5.006138</td>\n",
       "      <td>1.382329</td>\n",
       "    </tr>\n",
       "    <tr>\n",
       "      <th>201810</th>\n",
       "      <td>15.832506</td>\n",
       "      <td>8.928911</td>\n",
       "      <td>1.029394</td>\n",
       "    </tr>\n",
       "    <tr>\n",
       "      <th>201811</th>\n",
       "      <td>29.917440</td>\n",
       "      <td>14.923448</td>\n",
       "      <td>0.956062</td>\n",
       "    </tr>\n",
       "    <tr>\n",
       "      <th>201812</th>\n",
       "      <td>24.499930</td>\n",
       "      <td>13.438971</td>\n",
       "      <td>1.105908</td>\n",
       "    </tr>\n",
       "    <tr>\n",
       "      <th>201901</th>\n",
       "      <td>37.372667</td>\n",
       "      <td>24.937646</td>\n",
       "      <td>2.098069</td>\n",
       "    </tr>\n",
       "    <tr>\n",
       "      <th>201902</th>\n",
       "      <td>35.558296</td>\n",
       "      <td>13.870140</td>\n",
       "      <td>0.596243</td>\n",
       "    </tr>\n",
       "    <tr>\n",
       "      <th>201903</th>\n",
       "      <td>45.363520</td>\n",
       "      <td>32.289044</td>\n",
       "      <td>1.399381</td>\n",
       "    </tr>\n",
       "    <tr>\n",
       "      <th>201904</th>\n",
       "      <td>21.126738</td>\n",
       "      <td>9.561052</td>\n",
       "      <td>0.882672</td>\n",
       "    </tr>\n",
       "    <tr>\n",
       "      <th>201905</th>\n",
       "      <td>29.610952</td>\n",
       "      <td>14.164269</td>\n",
       "      <td>0.371188</td>\n",
       "    </tr>\n",
       "    <tr>\n",
       "      <th>201906</th>\n",
       "      <td>19.975838</td>\n",
       "      <td>8.586208</td>\n",
       "      <td>0.455907</td>\n",
       "    </tr>\n",
       "    <tr>\n",
       "      <th>201907</th>\n",
       "      <td>18.886417</td>\n",
       "      <td>12.394552</td>\n",
       "      <td>1.139789</td>\n",
       "    </tr>\n",
       "    <tr>\n",
       "      <th>201908</th>\n",
       "      <td>16.291390</td>\n",
       "      <td>6.118619</td>\n",
       "      <td>0.608153</td>\n",
       "    </tr>\n",
       "    <tr>\n",
       "      <th>year</th>\n",
       "      <td>25.377374</td>\n",
       "      <td>18.338648</td>\n",
       "      <td>2.382953</td>\n",
       "    </tr>\n",
       "  </tbody>\n",
       "</table>\n",
       "</div>"
      ],
      "text/plain": [
       "             mean        std      skew\n",
       "201809  10.430998   5.006138  1.382329\n",
       "201810  15.832506   8.928911  1.029394\n",
       "201811  29.917440  14.923448  0.956062\n",
       "201812  24.499930  13.438971  1.105908\n",
       "201901  37.372667  24.937646  2.098069\n",
       "201902  35.558296  13.870140  0.596243\n",
       "201903  45.363520  32.289044  1.399381\n",
       "201904  21.126738   9.561052  0.882672\n",
       "201905  29.610952  14.164269  0.371188\n",
       "201906  19.975838   8.586208  0.455907\n",
       "201907  18.886417  12.394552  1.139789\n",
       "201908  16.291390   6.118619  0.608153\n",
       "year    25.377374  18.338648  2.382953"
      ]
     },
     "execution_count": 7,
     "metadata": {},
     "output_type": "execute_result"
    }
   ],
   "source": [
    "ff_pm = f_pm.mean().to_frame('mean')\n",
    "ff_pm = f_pm.std().to_frame('std').join(ff_pm)\n",
    "ff_pm = f_pm.skew().to_frame('skew').join(ff_pm)\n",
    "ff_pm.loc['year','mean'] = f_pm.stack().mean()\n",
    "ff_pm.loc['year','std'] = f_pm.stack().std()\n",
    "ff_pm.loc['year','skew'] = f_pm.stack().skew()\n",
    "ff_pm.iloc[:,::-1].to_csv('pm.csv')\n",
    "ff_pm.iloc[:,::-1]"
   ]
  },
  {
   "cell_type": "code",
   "execution_count": 8,
   "metadata": {},
   "outputs": [
    {
     "data": {
      "image/png": "[encoded data removed]",
      "text/plain": [
       "<Figure size 1152x576 with 1 Axes>"
      ]
     },
     "metadata": {
      "needs_background": "light"
     },
     "output_type": "display_data"
    }
   ],
   "source": [
    "f_tm.boxplot(figsize=(16,8))\n",
    "plt.title('Mean Temperature')\n",
    "plt.xlabel('Month')\n",
    "plt.ylabel('Temperature (°C)')\n",
    "plt.savefig('tm.png')"
   ]
  },
  {
   "cell_type": "code",
   "execution_count": 9,
   "metadata": {},
   "outputs": [
    {
     "data": {
      "image/png": "[encoded data removed]",
      "text/plain": [
       "<Figure size 1152x576 with 1 Axes>"
      ]
     },
     "metadata": {
      "needs_background": "light"
     },
     "output_type": "display_data"
    }
   ],
   "source": [
    "f_tx.boxplot(figsize=(16,8))\n",
    "plt.title('Maximum Temperature')\n",
    "plt.xlabel('Month')\n",
    "plt.ylabel('Temperature (°C)')\n",
    "plt.savefig('tx.png')"
   ]
  },
  {
   "cell_type": "code",
   "execution_count": 10,
   "metadata": {},
   "outputs": [
    {
     "data": {
      "image/png": "[encoded data removed]",
      "text/plain": [
       "<Figure size 1152x576 with 1 Axes>"
      ]
     },
     "metadata": {
      "needs_background": "light"
     },
     "output_type": "display_data"
    }
   ],
   "source": [
    "f_tn.boxplot(figsize=(16,8))\n",
    "plt.title('Minimum Temperature')\n",
    "plt.xlabel('Month')\n",
    "plt.ylabel('Temperature (°C)')\n",
    "plt.savefig('tn.png')"
   ]
  },
  {
   "cell_type": "code",
   "execution_count": 11,
   "metadata": {},
   "outputs": [
    {
     "data": {
      "image/png": "[encoded data removed]",
      "text/plain": [
       "<Figure size 1152x576 with 1 Axes>"
      ]
     },
     "metadata": {
      "needs_background": "light"
     },
     "output_type": "display_data"
    }
   ],
   "source": [
    "f_pt=pd.read_csv('data/seoul pt.csv').iloc[:,1:13]\n",
    "f_pt.fillna(0).boxplot(figsize=(16,8))\n",
    "plt.title('Precipitation (when exists only)')\n",
    "plt.xlabel('Month')\n",
    "plt.ylabel('Precipitation (mm)')\n",
    "plt.savefig('pt.png')"
   ]
  },
  {
   "cell_type": "code",
   "execution_count": 12,
   "metadata": {},
   "outputs": [
    {
     "data": {
      "image/png": "[encoded data removed]",
      "text/plain": [
       "<Figure size 1152x576 with 1 Axes>"
      ]
     },
     "metadata": {
      "needs_background": "light"
     },
     "output_type": "display_data"
    }
   ],
   "source": [
    "f_pm.boxplot(figsize=(16,8))\n",
    "plt.title('Particulate Matter')\n",
    "plt.xlabel('Month')\n",
    "plt.ylabel('PM2.5')\n",
    "plt.savefig('pm.png')"
   ]
  },
  {
   "cell_type": "code",
   "execution_count": 13,
   "metadata": {},
   "outputs": [
    {
     "data": {
      "image/png": "[encoded data removed]",
      "text/plain": [
       "<Figure size 432x288 with 1 Axes>"
      ]
     },
     "metadata": {
      "needs_background": "light"
     },
     "output_type": "display_data"
    }
   ],
   "source": [
    "f_tm.stack().hist(rwidth=1., grid=False, edgecolor='black',bins=9)\n",
    "plt.title('Mean Temperature')\n",
    "plt.xlabel('Temperature (°C)')\n",
    "plt.ylabel('Frequency')\n",
    "plt.savefig('tm2.png')"
   ]
  },
  {
   "cell_type": "code",
   "execution_count": 14,
   "metadata": {},
   "outputs": [
    {
     "data": {
      "image/png": "[encoded data removed]",
      "text/plain": [
       "<Figure size 432x288 with 1 Axes>"
      ]
     },
     "metadata": {
      "needs_background": "light"
     },
     "output_type": "display_data"
    }
   ],
   "source": [
    "f_tx.stack().hist(rwidth=1., grid=False, edgecolor='black',bins=9)\n",
    "plt.title('Maximum Temperature')\n",
    "plt.xlabel('Temperature (°C)')\n",
    "plt.ylabel('Frequency')\n",
    "plt.savefig('tx2.png')"
   ]
  },
  {
   "cell_type": "code",
   "execution_count": 15,
   "metadata": {},
   "outputs": [
    {
     "data": {
      "image/png": "[encoded data removed]",
      "text/plain": [
       "<Figure size 432x288 with 1 Axes>"
      ]
     },
     "metadata": {
      "needs_background": "light"
     },
     "output_type": "display_data"
    }
   ],
   "source": [
    "f_tn.stack().hist(rwidth=1., grid=False, edgecolor='black',bins=9)\n",
    "plt.title('Minimum Temperature')\n",
    "plt.xlabel('Temperature (°C)')\n",
    "plt.ylabel('Frequency')\n",
    "plt.savefig('tn2.png')"
   ]
  },
  {
   "cell_type": "code",
   "execution_count": 16,
   "metadata": {},
   "outputs": [
    {
     "data": {
      "image/png": "[encoded data removed]",
      "text/plain": [
       "<Figure size 432x288 with 1 Axes>"
      ]
     },
     "metadata": {
      "needs_background": "light"
     },
     "output_type": "display_data"
    }
   ],
   "source": [
    "f_pt.stack().hist(rwidth=1., grid=False, edgecolor='black',bins=25)\n",
    "plt.title('Precipitation (when exists only)')\n",
    "plt.xlabel('Precipitation (mm)')\n",
    "plt.ylabel('Frequency')\n",
    "plt.savefig('pt2.png')"
   ]
  },
  {
   "cell_type": "code",
   "execution_count": 17,
   "metadata": {},
   "outputs": [
    {
     "data": {
      "image/png": "[encoded data removed]",
      "text/plain": [
       "<Figure size 432x288 with 1 Axes>"
      ]
     },
     "metadata": {
      "needs_background": "light"
     },
     "output_type": "display_data"
    }
   ],
   "source": [
    "f_pt.fillna(0).stack().hist(rwidth=1., grid=False, edgecolor='black',bins=25)\n",
    "plt.title('Precipitation (NaN include)')\n",
    "plt.xlabel('Precipitation (mm)')\n",
    "plt.ylabel('Frequency')\n",
    "plt.savefig('pt2n.png')"
   ]
  },
  {
   "cell_type": "code",
   "execution_count": 18,
   "metadata": {},
   "outputs": [
    {
     "data": {
      "image/png": "[encoded data removed]",
      "text/plain": [
       "<Figure size 432x288 with 1 Axes>"
      ]
     },
     "metadata": {
      "needs_background": "light"
     },
     "output_type": "display_data"
    }
   ],
   "source": [
    "f_pm.stack().hist(rwidth=1., grid=False, edgecolor='black',bins=20)\n",
    "plt.title('Particulate Matter')\n",
    "plt.xlabel('PM2.5')\n",
    "plt.ylabel('Frequency')\n",
    "plt.savefig('pm2.png')"
   ]
  },
  {
   "cell_type": "code",
   "execution_count": 19,
   "metadata": {},
   "outputs": [],
   "source": [
    "cop=np.zeros([5,5]) # pearson correlation matrix\n",
    "cos=np.zeros([5,5]) # spearman correlation matrix\n",
    "\n",
    "ff=[f_tm.stack(),f_tx.stack(),f_tn.stack(),f_pt.fillna(0).stack(),f_pm.stack()] # 강수량이 nan일 때를 0mm로 바꿈\n",
    "\n",
    "for i in range(0,5):\n",
    "    for j in range(0,5):\n",
    "        cop[i,j]=ff[i].corr(ff[j], method='pearson')\n",
    "        cos[i,j]=ff[i].corr(ff[j], method='spearman')"
   ]
  },
  {
   "cell_type": "code",
   "execution_count": 20,
   "metadata": {},
   "outputs": [
    {
     "data": {
      "text/html": [
       "<div>\n",
       "<style scoped>\n",
       "    .dataframe tbody tr th:only-of-type {\n",
       "        vertical-align: middle;\n",
       "    }\n",
       "\n",
       "    .dataframe tbody tr th {\n",
       "        vertical-align: top;\n",
       "    }\n",
       "\n",
       "    .dataframe thead th {\n",
       "        text-align: right;\n",
       "    }\n",
       "</style>\n",
       "<table border=\"1\" class=\"dataframe\">\n",
       "  <thead>\n",
       "    <tr style=\"text-align: right;\">\n",
       "      <th></th>\n",
       "      <th>tm</th>\n",
       "      <th>tx</th>\n",
       "      <th>tn</th>\n",
       "      <th>pt</th>\n",
       "      <th>pm</th>\n",
       "    </tr>\n",
       "  </thead>\n",
       "  <tbody>\n",
       "    <tr>\n",
       "      <th>tm</th>\n",
       "      <td>1.000000</td>\n",
       "      <td>0.988873</td>\n",
       "      <td>0.989071</td>\n",
       "      <td>0.182125</td>\n",
       "      <td>-0.242514</td>\n",
       "    </tr>\n",
       "    <tr>\n",
       "      <th>tx</th>\n",
       "      <td>0.988873</td>\n",
       "      <td>1.000000</td>\n",
       "      <td>0.960084</td>\n",
       "      <td>0.122230</td>\n",
       "      <td>-0.215647</td>\n",
       "    </tr>\n",
       "    <tr>\n",
       "      <th>tn</th>\n",
       "      <td>0.989071</td>\n",
       "      <td>0.960084</td>\n",
       "      <td>1.000000</td>\n",
       "      <td>0.233561</td>\n",
       "      <td>-0.254736</td>\n",
       "    </tr>\n",
       "    <tr>\n",
       "      <th>pt</th>\n",
       "      <td>0.182125</td>\n",
       "      <td>0.122230</td>\n",
       "      <td>0.233561</td>\n",
       "      <td>1.000000</td>\n",
       "      <td>-0.175928</td>\n",
       "    </tr>\n",
       "    <tr>\n",
       "      <th>pm</th>\n",
       "      <td>-0.242514</td>\n",
       "      <td>-0.215647</td>\n",
       "      <td>-0.254736</td>\n",
       "      <td>-0.175928</td>\n",
       "      <td>1.000000</td>\n",
       "    </tr>\n",
       "  </tbody>\n",
       "</table>\n",
       "</div>"
      ],
      "text/plain": [
       "          tm        tx        tn        pt        pm\n",
       "tm  1.000000  0.988873  0.989071  0.182125 -0.242514\n",
       "tx  0.988873  1.000000  0.960084  0.122230 -0.215647\n",
       "tn  0.989071  0.960084  1.000000  0.233561 -0.254736\n",
       "pt  0.182125  0.122230  0.233561  1.000000 -0.175928\n",
       "pm -0.242514 -0.215647 -0.254736 -0.175928  1.000000"
      ]
     },
     "execution_count": 20,
     "metadata": {},
     "output_type": "execute_result"
    }
   ],
   "source": [
    "copd=pd.DataFrame(cop)\n",
    "copd.index = ['tm','tx','tn','pt','pm']\n",
    "copd.columns = copd.index\n",
    "copd # pearson 상관계수"
   ]
  },
  {
   "cell_type": "code",
   "execution_count": 21,
   "metadata": {},
   "outputs": [
    {
     "data": {
      "text/html": [
       "<div>\n",
       "<style scoped>\n",
       "    .dataframe tbody tr th:only-of-type {\n",
       "        vertical-align: middle;\n",
       "    }\n",
       "\n",
       "    .dataframe tbody tr th {\n",
       "        vertical-align: top;\n",
       "    }\n",
       "\n",
       "    .dataframe thead th {\n",
       "        text-align: right;\n",
       "    }\n",
       "</style>\n",
       "<table border=\"1\" class=\"dataframe\">\n",
       "  <thead>\n",
       "    <tr style=\"text-align: right;\">\n",
       "      <th></th>\n",
       "      <th>tm</th>\n",
       "      <th>tx</th>\n",
       "      <th>tn</th>\n",
       "      <th>pt</th>\n",
       "      <th>pm</th>\n",
       "    </tr>\n",
       "  </thead>\n",
       "  <tbody>\n",
       "    <tr>\n",
       "      <th>tm</th>\n",
       "      <td>1.000000</td>\n",
       "      <td>0.985618</td>\n",
       "      <td>0.988820</td>\n",
       "      <td>0.241434</td>\n",
       "      <td>-0.291924</td>\n",
       "    </tr>\n",
       "    <tr>\n",
       "      <th>tx</th>\n",
       "      <td>0.985618</td>\n",
       "      <td>1.000000</td>\n",
       "      <td>0.956409</td>\n",
       "      <td>0.145564</td>\n",
       "      <td>-0.250254</td>\n",
       "    </tr>\n",
       "    <tr>\n",
       "      <th>tn</th>\n",
       "      <td>0.988820</td>\n",
       "      <td>0.956409</td>\n",
       "      <td>1.000000</td>\n",
       "      <td>0.314828</td>\n",
       "      <td>-0.311251</td>\n",
       "    </tr>\n",
       "    <tr>\n",
       "      <th>pt</th>\n",
       "      <td>0.241434</td>\n",
       "      <td>0.145564</td>\n",
       "      <td>0.314828</td>\n",
       "      <td>1.000000</td>\n",
       "      <td>-0.226985</td>\n",
       "    </tr>\n",
       "    <tr>\n",
       "      <th>pm</th>\n",
       "      <td>-0.291924</td>\n",
       "      <td>-0.250254</td>\n",
       "      <td>-0.311251</td>\n",
       "      <td>-0.226985</td>\n",
       "      <td>1.000000</td>\n",
       "    </tr>\n",
       "  </tbody>\n",
       "</table>\n",
       "</div>"
      ],
      "text/plain": [
       "          tm        tx        tn        pt        pm\n",
       "tm  1.000000  0.985618  0.988820  0.241434 -0.291924\n",
       "tx  0.985618  1.000000  0.956409  0.145564 -0.250254\n",
       "tn  0.988820  0.956409  1.000000  0.314828 -0.311251\n",
       "pt  0.241434  0.145564  0.314828  1.000000 -0.226985\n",
       "pm -0.291924 -0.250254 -0.311251 -0.226985  1.000000"
      ]
     },
     "execution_count": 21,
     "metadata": {},
     "output_type": "execute_result"
    }
   ],
   "source": [
    "cosd=pd.DataFrame(cos)\n",
    "cosd.index = ['tm','tx','tn','pt','pm']\n",
    "cosd.columns = cosd.index\n",
    "cosd # spearman 상관계수"
   ]
  },
  {
   "cell_type": "code",
   "execution_count": null,
   "metadata": {},
   "outputs": [],
   "source": [
    "fff=pd.DataFrame(ff).T\n",
    "fff.columns=['tm','tx','tn','pt','pm']\n",
    "sns.pairplot(fff)\n",
    "plt.savefig('scatter.png')"
   ]
  },
  {
   "cell_type": "code",
   "execution_count": null,
   "metadata": {},
   "outputs": [],
   "source": [
    "f_dt = f_tx.subtract(f_tn) # 일교차데이터\n",
    "print(f_dt.stack().mean())\n",
    "f_dt.boxplot(figsize=(16,8))\n",
    "plt.savefig('dt.png')"
   ]
  },
  {
   "cell_type": "code",
   "execution_count": null,
   "metadata": {
    "scrolled": true
   },
   "outputs": [],
   "source": [
    "# 일교차와 강수량의 상관관계\n",
    "# 강수량이 nan일 때는 0으로 바꿈\n",
    "f_dt.stack().corr(f_pt.fillna(0).stack(), method='pearson')"
   ]
  },
  {
   "cell_type": "code",
   "execution_count": null,
   "metadata": {
    "scrolled": true
   },
   "outputs": [],
   "source": [
    "f_dt.stack().corr(f_pt.fillna(0).stack(), method='spearman')"
   ]
  },
  {
   "cell_type": "code",
   "execution_count": null,
   "metadata": {},
   "outputs": [],
   "source": [
    "# 일교차과 미세먼지의 상관관계\n",
    "f_dt.stack().corr(f_pm.stack(), method='pearson')"
   ]
  },
  {
   "cell_type": "code",
   "execution_count": null,
   "metadata": {},
   "outputs": [],
   "source": [
    "f_dt.stack().corr(f_pm.stack(), method='spearman')"
   ]
  },
  {
   "cell_type": "code",
   "execution_count": null,
   "metadata": {
    "scrolled": true
   },
   "outputs": [],
   "source": [
    "fa=[f_dt.stack(),f_pt.fillna(0).stack(),f_pm[f_pt > 2.5].stack()]\n",
    "fa=pd.DataFrame(fa).T\n",
    "fa.columns=['dt','pt','pm']\n",
    "sns.pairplot(fa)\n",
    "plt.savefig('scatter2.png')"
   ]
  },
  {
   "cell_type": "code",
   "execution_count": null,
   "metadata": {},
   "outputs": [],
   "source": []
  }
 ],
 "metadata": {
  "kernelspec": {
   "display_name": "Python 3",
   "language": "python",
   "name": "python3"
  },
  "language_info": {
   "codemirror_mode": {
    "name": "ipython",
    "version": 3
   },
   "file_extension": ".py",
   "mimetype": "text/x-python",
   "name": "python",
   "nbconvert_exporter": "python",
   "pygments_lexer": "ipython3",
   "version": "3.8.3"
  }
 },
 "nbformat": 4,
 "nbformat_minor": 4
}
