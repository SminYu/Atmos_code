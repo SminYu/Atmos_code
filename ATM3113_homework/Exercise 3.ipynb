{
 "cells": [
  {
   "cell_type": "code",
   "execution_count": 1,
   "metadata": {},
   "outputs": [],
   "source": [
    "import numpy as np\n",
    "import matplotlib.pyplot as plt\n",
    "import pandas as pd"
   ]
  },
  {
   "cell_type": "code",
   "execution_count": 2,
   "metadata": {},
   "outputs": [
    {
     "data": {
      "text/html": [
       "<div>\n",
       "<style scoped>\n",
       "    .dataframe tbody tr th:only-of-type {\n",
       "        vertical-align: middle;\n",
       "    }\n",
       "\n",
       "    .dataframe tbody tr th {\n",
       "        vertical-align: top;\n",
       "    }\n",
       "\n",
       "    .dataframe thead th {\n",
       "        text-align: right;\n",
       "    }\n",
       "</style>\n",
       "<table border=\"1\" class=\"dataframe\">\n",
       "  <thead>\n",
       "    <tr style=\"text-align: right;\">\n",
       "      <th></th>\n",
       "      <th>Year</th>\n",
       "      <th>Temperature(ºC)</th>\n",
       "      <th>Precipitation(mm)</th>\n",
       "      <th>Pressure(hPa)</th>\n",
       "      <th>El Nino</th>\n",
       "    </tr>\n",
       "  </thead>\n",
       "  <tbody>\n",
       "    <tr>\n",
       "      <th>0</th>\n",
       "      <td>1951</td>\n",
       "      <td>26.1</td>\n",
       "      <td>43.0</td>\n",
       "      <td>1009.5</td>\n",
       "      <td>True</td>\n",
       "    </tr>\n",
       "    <tr>\n",
       "      <th>1</th>\n",
       "      <td>1952</td>\n",
       "      <td>24.5</td>\n",
       "      <td>10.0</td>\n",
       "      <td>1010.9</td>\n",
       "      <td>False</td>\n",
       "    </tr>\n",
       "    <tr>\n",
       "      <th>2</th>\n",
       "      <td>1953</td>\n",
       "      <td>24.8</td>\n",
       "      <td>4.0</td>\n",
       "      <td>1010.7</td>\n",
       "      <td>True</td>\n",
       "    </tr>\n",
       "    <tr>\n",
       "      <th>3</th>\n",
       "      <td>1954</td>\n",
       "      <td>24.5</td>\n",
       "      <td>0.0</td>\n",
       "      <td>1011.2</td>\n",
       "      <td>False</td>\n",
       "    </tr>\n",
       "    <tr>\n",
       "      <th>4</th>\n",
       "      <td>1955</td>\n",
       "      <td>24.1</td>\n",
       "      <td>2.0</td>\n",
       "      <td>1011.9</td>\n",
       "      <td>False</td>\n",
       "    </tr>\n",
       "  </tbody>\n",
       "</table>\n",
       "</div>"
      ],
      "text/plain": [
       "   Year  Temperature(ºC)  Precipitation(mm)  Pressure(hPa)  El Nino\n",
       "0  1951             26.1               43.0         1009.5     True\n",
       "1  1952             24.5               10.0         1010.9    False\n",
       "2  1953             24.8                4.0         1010.7     True\n",
       "3  1954             24.5                0.0         1011.2    False\n",
       "4  1955             24.1                2.0         1011.9    False"
      ]
     },
     "execution_count": 2,
     "metadata": {},
     "output_type": "execute_result"
    }
   ],
   "source": [
    "f=pd.read_excel('A-3.xlsx')\n",
    "f.head()"
   ]
  },
  {
   "cell_type": "code",
   "execution_count": 3,
   "metadata": {},
   "outputs": [
    {
     "name": "stdout",
     "output_type": "stream",
     "text": [
      "Median = 2.0 mm\n",
      "Trimean = 2.75 mm\n",
      "Mean = 12.947368421052632 mm\n"
     ]
    }
   ],
   "source": [
    "#P1\n",
    "print('Median =', f['Precipitation(mm)'].median(), 'mm')\n",
    "pre_q=f['Precipitation(mm)'].quantile([.25,.5,.75])\n",
    "print('Trimean =', (pre_q[.25]+2*pre_q[.5]+pre_q[.75])/4, 'mm')\n",
    "print('Mean =', f['Precipitation(mm)'].mean(), 'mm')"
   ]
  },
  {
   "cell_type": "code",
   "execution_count": 4,
   "metadata": {},
   "outputs": [
    {
     "name": "stdout",
     "output_type": "stream",
     "text": [
      "MAD = 0.39999999999997726 hPa\n",
      "IQR = 0.7499999999998863 hPa\n",
      "STD = 0.8798923379117486 hPa\n"
     ]
    }
   ],
   "source": [
    "#P2\n",
    "print('MAD =', (f['Pressure(hPa)']-f['Pressure(hPa)'].median()).abs().median(),'hPa')\n",
    "#pandas library의 MAD는 mean absolute deviation이라 다른 방법을 사용함.\n",
    "print('IQR =', f['Pressure(hPa)'].quantile(.75)-f['Pressure(hPa)'].quantile(.25),'hPa')\n",
    "print('STD =', f['Pressure(hPa)'].std(),'hPa')"
   ]
  },
  {
   "cell_type": "code",
   "execution_count": 5,
   "metadata": {},
   "outputs": [],
   "source": [
    "#P3"
   ]
  },
  {
   "cell_type": "code",
   "execution_count": 6,
   "metadata": {},
   "outputs": [
    {
     "name": "stdout",
     "output_type": "stream",
     "text": [
      "Yule-Kendal= 0.08571428571428526\n",
      "Skewness= 0.9740255878480163\n"
     ]
    }
   ],
   "source": [
    "#P4\n",
    "tem_q=f['Temperature(ºC)'].quantile([.25,.5,.75])\n",
    "print('Yule-Kendal=',((tem_q[.25]-2*tem_q[.5]+tem_q[.75])/(tem_q[.75]-tem_q[.25])))\n",
    "print('Skewness=',f['Temperature(ºC)'].skew())"
   ]
  },
  {
   "cell_type": "code",
   "execution_count": 7,
   "metadata": {},
   "outputs": [
    {
     "data": {
      "image/png": "[encoded data removed]",
      "text/plain": [
       "<Figure size 432x288 with 1 Axes>"
      ]
     },
     "metadata": {
      "needs_background": "light"
     },
     "output_type": "display_data"
    }
   ],
   "source": [
    "#P5_histogram\n",
    "f['Pressure(hPa)'].hist()\n",
    "plt.xlabel('Pressure(hPa)')\n",
    "plt.title('Histogram')\n",
    "plt.ylabel('Frequency')\n",
    "plt.savefig('P5_hist.png')\n",
    "plt.show()"
   ]
  },
  {
   "cell_type": "code",
   "execution_count": 8,
   "metadata": {},
   "outputs": [
    {
     "data": {
      "image/png": "[encoded data removed]",
      "text/plain": [
       "<Figure size 432x288 with 1 Axes>"
      ]
     },
     "metadata": {
      "needs_background": "light"
     },
     "output_type": "display_data"
    }
   ],
   "source": [
    "#P5_CFD\n",
    "f['Pressure(hPa)'].hist(cumulative=True)\n",
    "plt.xlabel('Pressure(hPa)')\n",
    "plt.ylabel('Cumulative frequency')\n",
    "plt.title('Cumulative frequency distribution')\n",
    "plt.savefig('P5_CFD.png')\n",
    "plt.show()"
   ]
  },
  {
   "cell_type": "code",
   "execution_count": 9,
   "metadata": {},
   "outputs": [
    {
     "data": {
      "image/png": "[encoded data removed]",
      "text/plain": [
       "<Figure size 432x288 with 1 Axes>"
      ]
     },
     "metadata": {
      "needs_background": "light"
     },
     "output_type": "display_data"
    }
   ],
   "source": [
    "#P6_schematic plot\n",
    "f['Temperature(ºC)'].to_frame().boxplot()\n",
    "plt.title('Schematic plot')\n",
    "plt.savefig('P6_schematic.png')\n",
    "plt.show()"
   ]
  },
  {
   "cell_type": "code",
   "execution_count": 10,
   "metadata": {},
   "outputs": [
    {
     "data": {
      "image/png": "[encoded data removed]",
      "text/plain": [
       "<Figure size 432x288 with 1 Axes>"
      ]
     },
     "metadata": {
      "needs_background": "light"
     },
     "output_type": "display_data"
    }
   ],
   "source": [
    "#P6_box plot\n",
    "f['Temperature(ºC)'].to_frame().boxplot(whis=(0,100))\n",
    "plt.title('Box plot')\n",
    "plt.savefig('P6_box.png')\n",
    "plt.show()"
   ]
  },
  {
   "cell_type": "code",
   "execution_count": 11,
   "metadata": {},
   "outputs": [
    {
     "data": {
      "text/plain": [
       "0    1.1176\n",
       "1    2.9972\n",
       "2    6.8326\n",
       "3    5.2832\n",
       "4    9.2964\n",
       "Name: Precipitation (cm), dtype: float64"
      ]
     },
     "execution_count": 11,
     "metadata": {},
     "output_type": "execute_result"
    }
   ],
   "source": [
    "#P7\n",
    "A2=pd.read_excel('A-2.xlsx').loc[:,'Precipitation (cm)']\n",
    "A2.head()"
   ]
  },
  {
   "cell_type": "code",
   "execution_count": 12,
   "metadata": {},
   "outputs": [
    {
     "name": "stdout",
     "output_type": "stream",
     "text": [
      "0.0 0.012751313998755549\n",
      "0.5 0.10119988238968317\n",
      "1.0 0.2177375565610858\n",
      "-0.5 0.1358804560222112\n",
      "-1.0 0.28225610402281653\n"
     ]
    }
   ],
   "source": [
    "#lambda = 0\n",
    "A2n=np.log(A2)\n",
    "print(0.0,abs((A2n.mean()-A2n.median()))/(A2n.quantile(.75)-A2n.quantile(.25)))\n",
    "\n",
    "#lambda is positive\n",
    "for i in range(1,3):\n",
    "    A2n=A2**(0.5*i)\n",
    "    d_lambda=abs((A2n.mean()-A2n.median()))/(A2n.quantile(.75)-A2n.quantile(.25))\n",
    "    print(0.5*i,d_lambda)\n",
    "    \n",
    "#lambda is negative\n",
    "for i in range(1,3):\n",
    "    A2n=-(A2**(0.5*-i))\n",
    "    d_lambda=abs((A2n.mean()-A2n.median()))/(A2n.quantile(.75)-A2n.quantile(.25))\n",
    "    print(0.5*-i,d_lambda)"
   ]
  },
  {
   "cell_type": "code",
   "execution_count": 13,
   "metadata": {},
   "outputs": [
    {
     "data": {
      "text/html": [
       "<div>\n",
       "<style scoped>\n",
       "    .dataframe tbody tr th:only-of-type {\n",
       "        vertical-align: middle;\n",
       "    }\n",
       "\n",
       "    .dataframe tbody tr th {\n",
       "        vertical-align: top;\n",
       "    }\n",
       "\n",
       "    .dataframe thead th {\n",
       "        text-align: right;\n",
       "    }\n",
       "</style>\n",
       "<table border=\"1\" class=\"dataframe\">\n",
       "  <thead>\n",
       "    <tr style=\"text-align: right;\">\n",
       "      <th></th>\n",
       "      <th>-1.0</th>\n",
       "      <th>-0.5</th>\n",
       "      <th>0.0</th>\n",
       "      <th>0.5</th>\n",
       "      <th>1.0</th>\n",
       "    </tr>\n",
       "  </thead>\n",
       "  <tbody>\n",
       "    <tr>\n",
       "      <th>0</th>\n",
       "      <td>0.894775</td>\n",
       "      <td>0.945925</td>\n",
       "      <td>0.111184</td>\n",
       "      <td>1.057166</td>\n",
       "      <td>1.1176</td>\n",
       "    </tr>\n",
       "    <tr>\n",
       "      <th>1</th>\n",
       "      <td>0.333645</td>\n",
       "      <td>0.577620</td>\n",
       "      <td>1.097679</td>\n",
       "      <td>1.731242</td>\n",
       "      <td>2.9972</td>\n",
       "    </tr>\n",
       "    <tr>\n",
       "      <th>2</th>\n",
       "      <td>0.146357</td>\n",
       "      <td>0.382567</td>\n",
       "      <td>1.921705</td>\n",
       "      <td>2.613924</td>\n",
       "      <td>6.8326</td>\n",
       "    </tr>\n",
       "    <tr>\n",
       "      <th>3</th>\n",
       "      <td>0.189279</td>\n",
       "      <td>0.435062</td>\n",
       "      <td>1.664532</td>\n",
       "      <td>2.298521</td>\n",
       "      <td>5.2832</td>\n",
       "    </tr>\n",
       "    <tr>\n",
       "      <th>4</th>\n",
       "      <td>0.107569</td>\n",
       "      <td>0.327976</td>\n",
       "      <td>2.229627</td>\n",
       "      <td>3.049000</td>\n",
       "      <td>9.2964</td>\n",
       "    </tr>\n",
       "  </tbody>\n",
       "</table>\n",
       "</div>"
      ],
      "text/plain": [
       "       -1.0      -0.5       0.0       0.5     1.0\n",
       "0  0.894775  0.945925  0.111184  1.057166  1.1176\n",
       "1  0.333645  0.577620  1.097679  1.731242  2.9972\n",
       "2  0.146357  0.382567  1.921705  2.613924  6.8326\n",
       "3  0.189279  0.435062  1.664532  2.298521  5.2832\n",
       "4  0.107569  0.327976  2.229627  3.049000  9.2964"
      ]
     },
     "execution_count": 13,
     "metadata": {},
     "output_type": "execute_result"
    }
   ],
   "source": [
    "#P8\n",
    "P8=pd.concat([(A2**(-1.)),(A2**(-.5)),(np.log(A2)),(A2**(.5)),(A2**(1.))], axis=1,\n",
    "             keys=['-1.0','-0.5','0.0','0.5','1.0'])\n",
    "P8.head()"
   ]
  },
  {
   "cell_type": "code",
   "execution_count": 14,
   "metadata": {},
   "outputs": [
    {
     "data": {
      "image/png": "[encoded data removed]",
      "text/plain": [
       "<Figure size 432x288 with 1 Axes>"
      ]
     },
     "metadata": {
      "needs_background": "light"
     },
     "output_type": "display_data"
    }
   ],
   "source": [
    "P8.boxplot()\n",
    "plt.xlabel('lambda')\n",
    "plt.savefig('P8.png')\n",
    "plt.show()"
   ]
  },
  {
   "cell_type": "code",
   "execution_count": 15,
   "metadata": {},
   "outputs": [
    {
     "data": {
      "text/plain": [
       "0    1.362323\n",
       "Name: Temperature(ºC), dtype: float64"
      ]
     },
     "execution_count": 15,
     "metadata": {},
     "output_type": "execute_result"
    }
   ],
   "source": [
    "#P9\n",
    "(f['Temperature(ºC)'].where(f['Year']==1951).dropna()-f['Temperature(ºC)'].mean())/f['Temperature(ºC)'].std()"
   ]
  },
  {
   "cell_type": "code",
   "execution_count": 16,
   "metadata": {},
   "outputs": [
    {
     "data": {
      "text/html": [
       "<div>\n",
       "<style scoped>\n",
       "    .dataframe tbody tr th:only-of-type {\n",
       "        vertical-align: middle;\n",
       "    }\n",
       "\n",
       "    .dataframe tbody tr th {\n",
       "        vertical-align: top;\n",
       "    }\n",
       "\n",
       "    .dataframe thead tr th {\n",
       "        text-align: left;\n",
       "    }\n",
       "</style>\n",
       "<table border=\"1\" class=\"dataframe\">\n",
       "  <thead>\n",
       "    <tr>\n",
       "      <th></th>\n",
       "      <th>Date</th>\n",
       "      <th colspan=\"3\" halign=\"left\">Ithaca</th>\n",
       "      <th colspan=\"3\" halign=\"left\">Canandaigua</th>\n",
       "    </tr>\n",
       "    <tr>\n",
       "      <th></th>\n",
       "      <th>Unnamed: 0_level_1</th>\n",
       "      <th>precipitation</th>\n",
       "      <th>Max Temp</th>\n",
       "      <th>Min Temp</th>\n",
       "      <th>Precipitation</th>\n",
       "      <th>Max Temp</th>\n",
       "      <th>Min Temp</th>\n",
       "    </tr>\n",
       "  </thead>\n",
       "  <tbody>\n",
       "    <tr>\n",
       "      <th>0</th>\n",
       "      <td>1</td>\n",
       "      <td>0.00</td>\n",
       "      <td>33.0</td>\n",
       "      <td>19.0</td>\n",
       "      <td>0.00</td>\n",
       "      <td>34.0</td>\n",
       "      <td>28.0</td>\n",
       "    </tr>\n",
       "    <tr>\n",
       "      <th>1</th>\n",
       "      <td>2</td>\n",
       "      <td>0.07</td>\n",
       "      <td>32.0</td>\n",
       "      <td>25.0</td>\n",
       "      <td>0.04</td>\n",
       "      <td>36.0</td>\n",
       "      <td>28.0</td>\n",
       "    </tr>\n",
       "    <tr>\n",
       "      <th>2</th>\n",
       "      <td>3</td>\n",
       "      <td>1.11</td>\n",
       "      <td>30.0</td>\n",
       "      <td>22.0</td>\n",
       "      <td>0.84</td>\n",
       "      <td>30.0</td>\n",
       "      <td>26.0</td>\n",
       "    </tr>\n",
       "    <tr>\n",
       "      <th>3</th>\n",
       "      <td>4</td>\n",
       "      <td>0.00</td>\n",
       "      <td>29.0</td>\n",
       "      <td>-1.0</td>\n",
       "      <td>0.00</td>\n",
       "      <td>29.0</td>\n",
       "      <td>19.0</td>\n",
       "    </tr>\n",
       "    <tr>\n",
       "      <th>4</th>\n",
       "      <td>5</td>\n",
       "      <td>0.00</td>\n",
       "      <td>25.0</td>\n",
       "      <td>4.0</td>\n",
       "      <td>0.00</td>\n",
       "      <td>30.0</td>\n",
       "      <td>16.0</td>\n",
       "    </tr>\n",
       "  </tbody>\n",
       "</table>\n",
       "</div>"
      ],
      "text/plain": [
       "                Date        Ithaca                     Canandaigua           \\\n",
       "  Unnamed: 0_level_1 precipitation Max Temp Min Temp Precipitation Max Temp   \n",
       "0                  1          0.00     33.0     19.0          0.00     34.0   \n",
       "1                  2          0.07     32.0     25.0          0.04     36.0   \n",
       "2                  3          1.11     30.0     22.0          0.84     30.0   \n",
       "3                  4          0.00     29.0     -1.0          0.00     29.0   \n",
       "4                  5          0.00     25.0      4.0          0.00     30.0   \n",
       "\n",
       "            \n",
       "  Min Temp  \n",
       "0     28.0  \n",
       "1     28.0  \n",
       "2     26.0  \n",
       "3     19.0  \n",
       "4     16.0  "
      ]
     },
     "execution_count": 16,
     "metadata": {},
     "output_type": "execute_result"
    }
   ],
   "source": [
    "#P10\n",
    "A1=pd.read_excel('A-1.xlsx',header=(0,1))\n",
    "A1.head()"
   ]
  },
  {
   "cell_type": "code",
   "execution_count": 17,
   "metadata": {},
   "outputs": [
    {
     "data": {
      "image/png": "[encoded data removed]",
      "text/plain": [
       "<Figure size 432x288 with 1 Axes>"
      ]
     },
     "metadata": {
      "needs_background": "light"
     },
     "output_type": "display_data"
    }
   ],
   "source": [
    "p10_y=[A1.loc[:,('Ithaca','Min Temp')].autocorr(lag=0),A1.loc[:,('Ithaca','Min Temp')].autocorr(lag=1),A1.loc[:,('Ithaca','Min Temp')].autocorr(lag=2),A1.loc[:,('Ithaca','Min Temp')].autocorr(lag=3)]\n",
    "plt.plot(range(4),p10_y,linestyle='-')\n",
    "plt.xlabel('Lag')\n",
    "plt.ylabel('Autocorrelation')\n",
    "plt.savefig('P10.png')\n",
    "plt.show()"
   ]
  },
  {
   "cell_type": "code",
   "execution_count": 18,
   "metadata": {},
   "outputs": [
    {
     "data": {
      "image/png": "[encoded data removed]",
      "text/plain": [
       "<Figure size 432x288 with 1 Axes>"
      ]
     },
     "metadata": {
      "needs_background": "light"
     },
     "output_type": "display_data"
    }
   ],
   "source": [
    "#P11\n",
    "plt.scatter(x=f['Temperature(ºC)'],y=f['Pressure(hPa)'])\n",
    "plt.xlabel('Temperature(ºC)')\n",
    "plt.ylabel('Pressure(hPa)')\n",
    "plt.savefig('P11.png')\n",
    "plt.show()"
   ]
  },
  {
   "cell_type": "code",
   "execution_count": 19,
   "metadata": {},
   "outputs": [
    {
     "data": {
      "text/html": [
       "<div>\n",
       "<style scoped>\n",
       "    .dataframe tbody tr th:only-of-type {\n",
       "        vertical-align: middle;\n",
       "    }\n",
       "\n",
       "    .dataframe tbody tr th {\n",
       "        vertical-align: top;\n",
       "    }\n",
       "\n",
       "    .dataframe thead th {\n",
       "        text-align: right;\n",
       "    }\n",
       "</style>\n",
       "<table border=\"1\" class=\"dataframe\">\n",
       "  <thead>\n",
       "    <tr style=\"text-align: right;\">\n",
       "      <th></th>\n",
       "      <th>Temperature(ºC)</th>\n",
       "      <th>Precipitation(mm)</th>\n",
       "      <th>Pressure(hPa)</th>\n",
       "    </tr>\n",
       "  </thead>\n",
       "  <tbody>\n",
       "    <tr>\n",
       "      <th>Temperature(ºC)</th>\n",
       "      <td>1.000000</td>\n",
       "      <td>0.702853</td>\n",
       "      <td>-0.830452</td>\n",
       "    </tr>\n",
       "    <tr>\n",
       "      <th>Precipitation(mm)</th>\n",
       "      <td>0.702853</td>\n",
       "      <td>1.000000</td>\n",
       "      <td>-0.677534</td>\n",
       "    </tr>\n",
       "    <tr>\n",
       "      <th>Pressure(hPa)</th>\n",
       "      <td>-0.830452</td>\n",
       "      <td>-0.677534</td>\n",
       "      <td>1.000000</td>\n",
       "    </tr>\n",
       "  </tbody>\n",
       "</table>\n",
       "</div>"
      ],
      "text/plain": [
       "                   Temperature(ºC)  Precipitation(mm)  Pressure(hPa)\n",
       "Temperature(ºC)           1.000000           0.702853      -0.830452\n",
       "Precipitation(mm)         0.702853           1.000000      -0.677534\n",
       "Pressure(hPa)            -0.830452          -0.677534       1.000000"
      ]
     },
     "execution_count": 19,
     "metadata": {},
     "output_type": "execute_result"
    }
   ],
   "source": [
    "#P12 Pearson correlation\n",
    "f.loc[:,'Temperature(ºC)':'Pressure(hPa)'].corr(method='pearson')"
   ]
  },
  {
   "cell_type": "code",
   "execution_count": 20,
   "metadata": {},
   "outputs": [
    {
     "data": {
      "text/html": [
       "<div>\n",
       "<style scoped>\n",
       "    .dataframe tbody tr th:only-of-type {\n",
       "        vertical-align: middle;\n",
       "    }\n",
       "\n",
       "    .dataframe tbody tr th {\n",
       "        vertical-align: top;\n",
       "    }\n",
       "\n",
       "    .dataframe thead th {\n",
       "        text-align: right;\n",
       "    }\n",
       "</style>\n",
       "<table border=\"1\" class=\"dataframe\">\n",
       "  <thead>\n",
       "    <tr style=\"text-align: right;\">\n",
       "      <th></th>\n",
       "      <th>Temperature(ºC)</th>\n",
       "      <th>Precipitation(mm)</th>\n",
       "      <th>Pressure(hPa)</th>\n",
       "    </tr>\n",
       "  </thead>\n",
       "  <tbody>\n",
       "    <tr>\n",
       "      <th>Temperature(ºC)</th>\n",
       "      <td>1.000000</td>\n",
       "      <td>0.606386</td>\n",
       "      <td>-0.688067</td>\n",
       "    </tr>\n",
       "    <tr>\n",
       "      <th>Precipitation(mm)</th>\n",
       "      <td>0.606386</td>\n",
       "      <td>1.000000</td>\n",
       "      <td>-0.631951</td>\n",
       "    </tr>\n",
       "    <tr>\n",
       "      <th>Pressure(hPa)</th>\n",
       "      <td>-0.688067</td>\n",
       "      <td>-0.631951</td>\n",
       "      <td>1.000000</td>\n",
       "    </tr>\n",
       "  </tbody>\n",
       "</table>\n",
       "</div>"
      ],
      "text/plain": [
       "                   Temperature(ºC)  Precipitation(mm)  Pressure(hPa)\n",
       "Temperature(ºC)           1.000000           0.606386      -0.688067\n",
       "Precipitation(mm)         0.606386           1.000000      -0.631951\n",
       "Pressure(hPa)            -0.688067          -0.631951       1.000000"
      ]
     },
     "execution_count": 20,
     "metadata": {},
     "output_type": "execute_result"
    }
   ],
   "source": [
    "#P12 Spearman rank correlation\n",
    "f.loc[:,'Temperature(ºC)':'Pressure(hPa)'].corr(method='spearman')"
   ]
  },
  {
   "cell_type": "code",
   "execution_count": 21,
   "metadata": {},
   "outputs": [],
   "source": [
    "#P13 on Excel"
   ]
  }
 ],
 "metadata": {
  "kernelspec": {
   "display_name": "Python 3",
   "language": "python",
   "name": "python3"
  },
  "language_info": {
   "codemirror_mode": {
    "name": "ipython",
    "version": 3
   },
   "file_extension": ".py",
   "mimetype": "text/x-python",
   "name": "python",
   "nbconvert_exporter": "python",
   "pygments_lexer": "ipython3",
   "version": "3.8.3"
  }
 },
 "nbformat": 4,
 "nbformat_minor": 4
}
