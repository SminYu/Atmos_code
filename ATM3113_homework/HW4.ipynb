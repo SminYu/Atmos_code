{
 "cells": [
  {
   "cell_type": "code",
   "execution_count": 1,
   "metadata": {},
   "outputs": [],
   "source": [
    "import numpy as np\n",
    "import matplotlib.pyplot as plt\n",
    "import pandas as pd\n",
    "import scipy.stats as stats"
   ]
  },
  {
   "cell_type": "code",
   "execution_count": 2,
   "metadata": {},
   "outputs": [],
   "source": [
    "f = pd.read_excel('Resampling test_data_CDPHOLODEC.xlsx')"
   ]
  },
  {
   "cell_type": "code",
   "execution_count": 3,
   "metadata": {},
   "outputs": [
    {
     "data": {
      "text/html": [
       "<div>\n",
       "<style scoped>\n",
       "    .dataframe tbody tr th:only-of-type {\n",
       "        vertical-align: middle;\n",
       "    }\n",
       "\n",
       "    .dataframe tbody tr th {\n",
       "        vertical-align: top;\n",
       "    }\n",
       "\n",
       "    .dataframe thead th {\n",
       "        text-align: right;\n",
       "    }\n",
       "</style>\n",
       "<table border=\"1\" class=\"dataframe\">\n",
       "  <thead>\n",
       "    <tr style=\"text-align: right;\">\n",
       "      <th></th>\n",
       "      <th>Time (s)</th>\n",
       "      <th>Nc_CDP (cm-3)</th>\n",
       "      <th>Nc_HOLODEC (cm-3)</th>\n",
       "    </tr>\n",
       "  </thead>\n",
       "  <tbody>\n",
       "    <tr>\n",
       "      <th>0</th>\n",
       "      <td>62130</td>\n",
       "      <td>522.23</td>\n",
       "      <td>261.97</td>\n",
       "    </tr>\n",
       "    <tr>\n",
       "      <th>1</th>\n",
       "      <td>62131</td>\n",
       "      <td>527.76</td>\n",
       "      <td>348.15</td>\n",
       "    </tr>\n",
       "    <tr>\n",
       "      <th>2</th>\n",
       "      <td>62132</td>\n",
       "      <td>482.20</td>\n",
       "      <td>356.92</td>\n",
       "    </tr>\n",
       "    <tr>\n",
       "      <th>3</th>\n",
       "      <td>62133</td>\n",
       "      <td>421.96</td>\n",
       "      <td>364.31</td>\n",
       "    </tr>\n",
       "    <tr>\n",
       "      <th>4</th>\n",
       "      <td>62134</td>\n",
       "      <td>437.75</td>\n",
       "      <td>357.33</td>\n",
       "    </tr>\n",
       "  </tbody>\n",
       "</table>\n",
       "</div>"
      ],
      "text/plain": [
       "   Time (s)  Nc_CDP (cm-3)  Nc_HOLODEC (cm-3)\n",
       "0     62130         522.23             261.97\n",
       "1     62131         527.76             348.15\n",
       "2     62132         482.20             356.92\n",
       "3     62133         421.96             364.31\n",
       "4     62134         437.75             357.33"
      ]
     },
     "execution_count": 3,
     "metadata": {},
     "output_type": "execute_result"
    }
   ],
   "source": [
    "f.head()"
   ]
  },
  {
   "cell_type": "code",
   "execution_count": 4,
   "metadata": {},
   "outputs": [
    {
     "data": {
      "text/html": [
       "<div>\n",
       "<style scoped>\n",
       "    .dataframe tbody tr th:only-of-type {\n",
       "        vertical-align: middle;\n",
       "    }\n",
       "\n",
       "    .dataframe tbody tr th {\n",
       "        vertical-align: top;\n",
       "    }\n",
       "\n",
       "    .dataframe thead th {\n",
       "        text-align: right;\n",
       "    }\n",
       "</style>\n",
       "<table border=\"1\" class=\"dataframe\">\n",
       "  <thead>\n",
       "    <tr style=\"text-align: right;\">\n",
       "      <th></th>\n",
       "      <th>Time (s)</th>\n",
       "      <th>Nc_CDP (cm-3)</th>\n",
       "      <th>Nc_HOLODEC (cm-3)</th>\n",
       "    </tr>\n",
       "  </thead>\n",
       "  <tbody>\n",
       "    <tr>\n",
       "      <th>count</th>\n",
       "      <td>554.000000</td>\n",
       "      <td>554.000000</td>\n",
       "      <td>554.000000</td>\n",
       "    </tr>\n",
       "    <tr>\n",
       "      <th>mean</th>\n",
       "      <td>62429.389892</td>\n",
       "      <td>316.643953</td>\n",
       "      <td>325.654567</td>\n",
       "    </tr>\n",
       "    <tr>\n",
       "      <th>std</th>\n",
       "      <td>176.165423</td>\n",
       "      <td>75.730885</td>\n",
       "      <td>70.874262</td>\n",
       "    </tr>\n",
       "    <tr>\n",
       "      <th>min</th>\n",
       "      <td>62130.000000</td>\n",
       "      <td>40.400000</td>\n",
       "      <td>11.520000</td>\n",
       "    </tr>\n",
       "    <tr>\n",
       "      <th>25%</th>\n",
       "      <td>62276.250000</td>\n",
       "      <td>268.417500</td>\n",
       "      <td>287.207500</td>\n",
       "    </tr>\n",
       "    <tr>\n",
       "      <th>50%</th>\n",
       "      <td>62428.000000</td>\n",
       "      <td>313.335000</td>\n",
       "      <td>334.090000</td>\n",
       "    </tr>\n",
       "    <tr>\n",
       "      <th>75%</th>\n",
       "      <td>62580.750000</td>\n",
       "      <td>359.582500</td>\n",
       "      <td>370.342500</td>\n",
       "    </tr>\n",
       "    <tr>\n",
       "      <th>max</th>\n",
       "      <td>62735.000000</td>\n",
       "      <td>655.270000</td>\n",
       "      <td>481.510000</td>\n",
       "    </tr>\n",
       "  </tbody>\n",
       "</table>\n",
       "</div>"
      ],
      "text/plain": [
       "           Time (s)  Nc_CDP (cm-3)  Nc_HOLODEC (cm-3)\n",
       "count    554.000000     554.000000         554.000000\n",
       "mean   62429.389892     316.643953         325.654567\n",
       "std      176.165423      75.730885          70.874262\n",
       "min    62130.000000      40.400000          11.520000\n",
       "25%    62276.250000     268.417500         287.207500\n",
       "50%    62428.000000     313.335000         334.090000\n",
       "75%    62580.750000     359.582500         370.342500\n",
       "max    62735.000000     655.270000         481.510000"
      ]
     },
     "execution_count": 4,
     "metadata": {},
     "output_type": "execute_result"
    }
   ],
   "source": [
    "f.describe()"
   ]
  },
  {
   "cell_type": "markdown",
   "metadata": {},
   "source": [
    "## Hypothesis Testing\n",
    "공가정 H0 : 두 기기에서 측정된 값은 같다. Nc_CDP = Nc_HOLODEC\n",
    "\n",
    "대체가정 HA : 두 기기에서 측정된 값은 다르다. Nc_CDP ≠ Nc_HOLODEC (Two-tailed test)\n",
    "\n",
    "Test level α = 5% (So, confidence interval is 95%)"
   ]
  },
  {
   "cell_type": "markdown",
   "metadata": {},
   "source": [
    "## 1. Two sample permutation test using L-scale statistics"
   ]
  },
  {
   "cell_type": "code",
   "execution_count": 5,
   "metadata": {},
   "outputs": [],
   "source": [
    "# Firstly, we define uniform random number generator. (from HW3)\n",
    "def uniform_rand(seed,length):\n",
    "    aa  = 16807\n",
    "    MM  = (2**31)-1\n",
    "    cc  = 0.\n",
    "    num = 0\n",
    "    \n",
    "    while num < length:\n",
    "        seed = (aa * seed + cc) % MM\n",
    "        quantity = seed / MM\n",
    "        num += 1\n",
    "        yield quantity #Quantity is u(n) = S(n)/M"
   ]
  },
  {
   "cell_type": "code",
   "execution_count": 6,
   "metadata": {},
   "outputs": [],
   "source": [
    "# 1만번 resampling하므로 1만개의 난수 그룹이 필요함. 각 난수그룹은 두 데이터의 갯수만큼의 uniform random number가 필요.\n",
    "\n",
    "tt=10000\n",
    "u=np.zeros([tt, 2*len(f)])\n",
    "\n",
    "for t in range(tt):\n",
    "    j=0\n",
    "    for i in uniform_rand(t**2+300,2*len(f)):\n",
    "        u[t,j]=i\n",
    "        j += 1"
   ]
  },
  {
   "cell_type": "code",
   "execution_count": 7,
   "metadata": {
    "scrolled": true
   },
   "outputs": [],
   "source": [
    "#L_real_CDP = 0 ; L_real_HOLO = 0 #Two lambda values for CDP & HOLO\n",
    "#\n",
    "#for i in range(len(f)):\n",
    "#    for j in range(len(f)-i):\n",
    "#        L_real_CDP  += abs(f['Nc_CDP (cm-3)'].iloc[i] - f['Nc_CDP (cm-3)'].iloc[i+j])\n",
    "#        L_real_HOLO += abs(f['Nc_HOLODEC (cm-3)'].iloc[i] - f['Nc_HOLODEC (cm-3)'].iloc[i+j])\n",
    "#        \n",
    "#LL_real = L_real_CDP/L_real_HOLO\n",
    "#print(LL_real)"
   ]
  },
  {
   "cell_type": "code",
   "execution_count": 8,
   "metadata": {
    "scrolled": true
   },
   "outputs": [],
   "source": [
    "# Scalar calculation\n",
    "# Then we sort the data by the random number.\n",
    "#uni_rand = pd.DataFrame(u[:,:].T)\n",
    "#f2 = f['Nc_CDP (cm-3)'].append(f['Nc_HOLODEC (cm-3)']).to_frame().reset_index(drop=True)\n",
    "#f2.columns = ['All data']\n",
    "#LL = np.zeros(tt)\n",
    "#\n",
    "#for t in range(tt):\n",
    "#    CDP_s  = f2.join(uni_rand.iloc[:,t]).sort_values(t).iloc[len(f):,0].array\n",
    "#    HOLO_s = f2.join(uni_rand.iloc[:,t]).sort_values(t).iloc[:len(f),0].array\n",
    "#    Lamda_CDP = 0. ; Lamda_HOLO =0. #Two lambda values for CDP & HOLO\n",
    "\n",
    "#    for i in range(len(f)):\n",
    "#        for j in range(len(f)-i):\n",
    "#            Lamda_CDP  += abs(CDP_s[i] - CDP_s[i+j])\n",
    "#            Lamda_HOLO += abs(HOLO_s[i] - HOLO_s[i+j])\n",
    "            \n",
    "#    LL[t] = Lamda_CDP/Lamda_HOLO\n",
    "#"
   ]
  },
  {
   "cell_type": "code",
   "execution_count": 9,
   "metadata": {},
   "outputs": [
    {
     "data": {
      "text/plain": [
       "1.0812093387179238"
      ]
     },
     "execution_count": 9,
     "metadata": {},
     "output_type": "execute_result"
    }
   ],
   "source": [
    "real_CDP  = f['Nc_CDP (cm-3)'].to_numpy()\n",
    "real_HOLO = f['Nc_HOLODEC (cm-3)'].to_numpy()\n",
    "\n",
    "CDP_vector  = np.repeat(real_CDP,len(real_CDP)).reshape([len(real_CDP),len(real_CDP)]) # 1-D array를 2-D array로 바꿈.\n",
    "HOLO_vector = np.repeat(real_HOLO,len(real_HOLO)).reshape([len(real_HOLO),len(real_HOLO)]) # 길이가 n인 1-D array가 n x n인 2-d array로 변함\n",
    "\n",
    "L_real_CDP = np.sum(abs(CDP_vector - CDP_vector.T))/2  # Lambda(CDP)와 Lambda(HOLO)는 자료의 길이가 같아 똑같은 값 (n-2)!/n!을 곱하므로 생략\n",
    "L_real_HOLO = np.sum(abs(HOLO_vector - HOLO_vector.T))/2\n",
    "\n",
    "LL_real = L_real_CDP/L_real_HOLO\n",
    "LL_real # L-scale ratio of real data"
   ]
  },
  {
   "cell_type": "code",
   "execution_count": 10,
   "metadata": {},
   "outputs": [
    {
     "data": {
      "text/plain": [
       "array([[  0.  ,   5.53,  40.03, ..., 479.27, 388.61, 250.2 ],\n",
       "       [  5.53,   0.  ,  45.56, ..., 484.8 , 394.14, 255.73],\n",
       "       [ 40.03,  45.56,   0.  , ..., 439.24, 348.58, 210.17],\n",
       "       ...,\n",
       "       [479.27, 484.8 , 439.24, ...,   0.  ,  90.66, 229.07],\n",
       "       [388.61, 394.14, 348.58, ...,  90.66,   0.  , 138.41],\n",
       "       [250.2 , 255.73, 210.17, ..., 229.07, 138.41,   0.  ]])"
      ]
     },
     "execution_count": 10,
     "metadata": {},
     "output_type": "execute_result"
    }
   ],
   "source": [
    "abs (CDP_vector - CDP_vector.T)"
   ]
  },
  {
   "cell_type": "code",
   "execution_count": 11,
   "metadata": {
    "scrolled": true
   },
   "outputs": [],
   "source": [
    "# Using vector calculation\n",
    "# Then we sort the data by the random number.\n",
    "\n",
    "uni_rand = pd.DataFrame(u[:,:].T)\n",
    "f2 = f['Nc_CDP (cm-3)'].append(f['Nc_HOLODEC (cm-3)']).to_frame().reset_index(drop=True)\n",
    "f2.columns = ['All data']\n",
    "LL = np.zeros(tt)\n",
    "\n",
    "for t in range(tt):\n",
    "    CDP_s  = f2.join(uni_rand.iloc[:,t]).sort_values(t).iloc[len(f):,0].to_numpy() #t번째 난수로 sort하고 반으로 나눠서 각각 CDP, HOLO로 가정.\n",
    "    HOLO_s = f2.join(uni_rand.iloc[:,t]).sort_values(t).iloc[:len(f),0].to_numpy()\n",
    "    \n",
    "    CDP_s_vector = np.repeat(CDP_s,len(CDP_s)).reshape([len(CDP_s),len(CDP_s)]) # 1-D array를 2-D array로 바꿈.\n",
    "    HOLO_s_vector = np.repeat(HOLO_s,len(HOLO_s)).reshape([len(HOLO_s),len(HOLO_s)]) \n",
    "                                                       \n",
    "    L_CDP = np.sum(abs(CDP_s_vector - CDP_s_vector.T))/2\n",
    "    L_HOLO = np.sum(abs(HOLO_s_vector - HOLO_s_vector.T))/2\n",
    "\n",
    "    LL[t] = L_CDP / L_HOLO # L-scale ratio of resampling data."
   ]
  },
  {
   "cell_type": "code",
   "execution_count": 12,
   "metadata": {},
   "outputs": [
    {
     "data": {
      "image/png": "[encoded data removed]",
      "text/plain": [
       "<Figure size 576x432 with 1 Axes>"
      ]
     },
     "metadata": {
      "needs_background": "light"
     },
     "output_type": "display_data"
    }
   ],
   "source": [
    "plt.figure(figsize=(8,6))\n",
    "plt.hist(LL,label='Resampling')\n",
    "plt.plot([LL_real,LL_real],[0,3000],label='Real value')\n",
    "plt.xlabel('L-scale ratio') ; plt.ylabel('Frequency')\n",
    "plt.title('L-scale ratio')\n",
    "plt.legend()\n",
    "plt.show()"
   ]
  },
  {
   "cell_type": "code",
   "execution_count": 13,
   "metadata": {},
   "outputs": [
    {
     "data": {
      "text/plain": [
       "0.0819"
      ]
     },
     "execution_count": 13,
     "metadata": {},
     "output_type": "execute_result"
    }
   ],
   "source": [
    "# Get p-value\n",
    "len(LL[LL>LL_real])/len(LL)"
   ]
  },
  {
   "cell_type": "markdown",
   "metadata": {},
   "source": [
    "### 소결 1\n",
    "관측 값의 Test statistic L-scale 1.081보다 Resampling한 자료의 L-scale이 클 확률 (p-value)은 0.0819 (= 8.19%)이다.\n",
    "\n",
    "이 때, 95% 신뢰구간의 Two-tailed test에서 한 쪽의 기각가능한 확률은 2.5%정도이다.\n",
    "\n",
    "즉, p-value = 8.19% > 2.5% 이므로 이 공가정 H0는 기각하기 어렵다.\n",
    "\n",
    "따라서, 두 기기로 측정한 수농도는 같다고 할 수 있다"
   ]
  },
  {
   "cell_type": "markdown",
   "metadata": {},
   "source": [
    "## 2. Two sample permutation test using own test statistic. (Trimmed Coefficient of Variation ratio)"
   ]
  },
  {
   "cell_type": "code",
   "execution_count": 14,
   "metadata": {},
   "outputs": [],
   "source": [
    "# If we want to resample 10000 time, then make 10000 different random number to sort the data\n",
    "\n",
    "tt=10000\n",
    "u=np.zeros([tt, 2*len(f)])\n",
    "\n",
    "for t in range(tt):\n",
    "    j=0\n",
    "    for i in uniform_rand(t*2+300,2*len(f)):\n",
    "        u[t,j]=i\n",
    "        j += 1"
   ]
  },
  {
   "cell_type": "code",
   "execution_count": 15,
   "metadata": {},
   "outputs": [
    {
     "data": {
      "text/plain": [
       "1.1202318156955118"
      ]
     },
     "execution_count": 15,
     "metadata": {},
     "output_type": "execute_result"
    }
   ],
   "source": [
    "T_CDP_real  = (stats.tstd(f['Nc_CDP (cm-3)'],limits=(f['Nc_CDP (cm-3)'].quantile(.1, interpolation='midpoint'),f['Nc_CDP (cm-3)'].quantile(.9, interpolation='midpoint')))\n",
    "               /stats.tmean(f['Nc_CDP (cm-3)'],limits=(f['Nc_CDP (cm-3)'].quantile(.1, interpolation='midpoint'),f['Nc_CDP (cm-3)'].quantile(.9, interpolation='midpoint'))))\n",
    "#상위 10%와 하위 10%를 제한 trimmed mean과 trimmed standard deviation으로 TCV를 구함\n",
    "T_HOLO_real  = (stats.tstd(f['Nc_HOLODEC (cm-3)'],limits=(f['Nc_HOLODEC (cm-3)'].quantile(.1, interpolation='midpoint'),f['Nc_HOLODEC (cm-3)'].quantile(.9, interpolation='midpoint')))\n",
    "               /stats.tmean(f['Nc_HOLODEC (cm-3)'],limits=(f['Nc_HOLODEC (cm-3)'].quantile(.1, interpolation='midpoint'),f['Nc_HOLODEC (cm-3)'].quantile(.9, interpolation='midpoint'))))\n",
    "\n",
    "T_ratio_real = T_CDP_real/T_HOLO_real #두 자료의 TCV의 비율\n",
    "T_ratio_real"
   ]
  },
  {
   "cell_type": "code",
   "execution_count": 16,
   "metadata": {
    "scrolled": true
   },
   "outputs": [],
   "source": [
    "# Then we sort the data by the random number.\n",
    "uni_rand = pd.DataFrame(u[:,:].T)\n",
    "f2 = f['Nc_CDP (cm-3)'].append(f['Nc_HOLODEC (cm-3)']).to_frame().reset_index(drop=True)\n",
    "f2.columns = ['All data']\n",
    "T_ratio = np.zeros(tt)\n",
    "\n",
    "for t in range(tt):\n",
    "    CDP_s  = f2.join(uni_rand.iloc[:,t]).sort_values(t).iloc[len(f):,0]\n",
    "    HOLO_s = f2.join(uni_rand.iloc[:,t]).sort_values(t).iloc[:len(f),0]\n",
    "    #Two S values for CDP & HOLO\n",
    "    T_CDP  = (stats.tstd(CDP_s,limits=(CDP_s.quantile(.1, interpolation='midpoint'),CDP_s.quantile(.9, interpolation='midpoint')))\n",
    "               /stats.tmean(CDP_s,limits=(CDP_s.quantile(.1, interpolation='midpoint'),CDP_s.quantile(.9, interpolation='midpoint'))))\n",
    "    T_HOLO = (stats.tstd(HOLO_s,limits=(HOLO_s.quantile(.1, interpolation='midpoint'),HOLO_s.quantile(.9, interpolation='midpoint')))\n",
    "               /stats.tmean(HOLO_s,limits=(HOLO_s.quantile(.1, interpolation='midpoint'),HOLO_s.quantile(.9, interpolation='midpoint'))))\n",
    "\n",
    "    T_ratio[t] = T_CDP/T_HOLO"
   ]
  },
  {
   "cell_type": "code",
   "execution_count": 17,
   "metadata": {},
   "outputs": [
    {
     "data": {
      "image/png": "[encoded data removed]",
      "text/plain": [
       "<Figure size 576x432 with 1 Axes>"
      ]
     },
     "metadata": {
      "needs_background": "light"
     },
     "output_type": "display_data"
    }
   ],
   "source": [
    "plt.figure(figsize=(8,6))\n",
    "plt.hist(T_ratio,label='Resampling')\n",
    "plt.plot([T_ratio_real,T_ratio_real],[0,3000],label='Real value')\n",
    "plt.xlabel('Trmmed CV ratio') ; plt.ylabel('Frequency')\n",
    "plt.title('Trimmed coefficient of variation ratio')\n",
    "plt.legend()\n",
    "plt.show()\n",
    "\n",
    "## Real value의 위치를 눈으로 보기 위해 선으로 표기한 것으로, 실제 Real value가 3000개 있다는 뜻은 아님."
   ]
  },
  {
   "cell_type": "code",
   "execution_count": 18,
   "metadata": {},
   "outputs": [
    {
     "data": {
      "text/plain": [
       "0.0161"
      ]
     },
     "execution_count": 18,
     "metadata": {},
     "output_type": "execute_result"
    }
   ],
   "source": [
    "len(T_ratio[T_ratio > T_ratio_real])/len(T_ratio)"
   ]
  },
  {
   "cell_type": "markdown",
   "metadata": {},
   "source": [
    "### 소결 2-1\n",
    "관측 값의 Test statistic 0.893보다 Resampling한 자료의 Test statistic이 작을 확률 (p-value)은 0.0161 (= 1.61%)이다.\n",
    "\n",
    "이 때, 95% 신뢰구간의 Two-tailed test에서 한 쪽의 기각가능한 확률은 2.5%정도이다.\n",
    "\n",
    "즉, p-value = 1.61% < 2.5% 이므로 공가정 H0는 기각하고 대립가설 HA을 채택할 수 있다.\n",
    "\n",
    "따라서, 두 기기로 측정한 수농도는 다르다고 할 수 있다."
   ]
  },
  {
   "cell_type": "markdown",
   "metadata": {},
   "source": [
    "### 1번과 2번의 결론이 다르게 나와서 제 3의 방법인 Geometric mean ratio 이용."
   ]
  },
  {
   "cell_type": "code",
   "execution_count": 19,
   "metadata": {},
   "outputs": [
    {
     "data": {
      "text/plain": [
       "0.9778122759828876"
      ]
     },
     "execution_count": 19,
     "metadata": {},
     "output_type": "execute_result"
    }
   ],
   "source": [
    "G_ratio_real = stats.gmean(f['Nc_CDP (cm-3)']) / stats.gmean(f['Nc_HOLODEC (cm-3)'])\n",
    "G_ratio_real"
   ]
  },
  {
   "cell_type": "code",
   "execution_count": 20,
   "metadata": {},
   "outputs": [],
   "source": [
    "# If we want to resample 10000 time, then make 10000 different random number to sort the data\n",
    "\n",
    "tt=10000\n",
    "u=np.zeros([tt, 2*len(f)])\n",
    "\n",
    "for t in range(tt):\n",
    "    j=0\n",
    "    for i in uniform_rand(t*2+300,2*len(f)):\n",
    "        u[t,j]=i\n",
    "        j += 1"
   ]
  },
  {
   "cell_type": "code",
   "execution_count": 21,
   "metadata": {},
   "outputs": [],
   "source": [
    "# Then we sort the data by the random number.\n",
    "uni_rand = pd.DataFrame(u[:,:].T)\n",
    "f2 = f['Nc_CDP (cm-3)'].append(f['Nc_HOLODEC (cm-3)']).to_frame().reset_index(drop=True)\n",
    "f2.columns = ['All data']\n",
    "G_ratio = np.zeros(tt)\n",
    "\n",
    "for t in range(tt):\n",
    "    CDP_s  = f2.join(uni_rand.iloc[:,t]).sort_values(t).iloc[len(f):,0]\n",
    "    HOLO_s = f2.join(uni_rand.iloc[:,t]).sort_values(t).iloc[:len(f),0]\n",
    "    #Two S values for CDP & HOLO\n",
    "   \n",
    "    G_ratio[t] = stats.gmean(CDP_s)/stats.gmean(HOLO_s)"
   ]
  },
  {
   "cell_type": "code",
   "execution_count": 22,
   "metadata": {
    "scrolled": true
   },
   "outputs": [
    {
     "data": {
      "image/png": "[encoded data removed]",
      "text/plain": [
       "<Figure size 576x432 with 1 Axes>"
      ]
     },
     "metadata": {
      "needs_background": "light"
     },
     "output_type": "display_data"
    }
   ],
   "source": [
    "plt.figure(figsize=(8,6))\n",
    "plt.hist(G_ratio,label='Resampling')\n",
    "plt.plot([G_ratio_real,G_ratio_real],[0,3000],label='Real value')\n",
    "plt.xlabel('Geometric mean ratio') ; plt.ylabel('Frequency')\n",
    "plt.title('Geometric mean ratio')\n",
    "plt.legend()\n",
    "plt.show()"
   ]
  },
  {
   "cell_type": "code",
   "execution_count": 23,
   "metadata": {},
   "outputs": [
    {
     "data": {
      "text/plain": [
       "0.1278"
      ]
     },
     "execution_count": 23,
     "metadata": {},
     "output_type": "execute_result"
    }
   ],
   "source": [
    "len(G_ratio[G_ratio < G_ratio_real])/len(G_ratio)"
   ]
  },
  {
   "cell_type": "markdown",
   "metadata": {},
   "source": [
    "### 소결 2-2\n",
    "\n",
    "Geometric mean ratio를 이용해서 구한 p-value는 0.1278 (12.78%)로 2.5%보다 충분히 크므로 공가정을 기각할 수 없음.\n",
    "\n",
    "즉, Test statistic을 어떻게 설정하냐에 따라서 기각 가능/불가능 여부가 다를 수 있다."
   ]
  },
  {
   "cell_type": "markdown",
   "metadata": {},
   "source": [
    "## 3. T-test\n",
    "충분히 Sample이 많으니 Gaussian dist.로 근사할 수 있다고 가정함. Z ≃ t\n",
    "\n",
    "공가설은 두 기기로 측정한 결과가 같다는 것이므로, 두 기기로 측정한 결과의 평균은 같다. (혹은 두 기기로 측정한 결과의 차이의 평균은 0이다.)\n",
    "\n",
    "Paired data이므로 두 기기로 측정한 결과의 차이로 t test를 진행한다. (H0: 두 기기로 측정한 결과의 차이의 평균은 0이다.)"
   ]
  },
  {
   "cell_type": "markdown",
   "metadata": {},
   "source": [
    "### Two sample t-test for differences"
   ]
  },
  {
   "cell_type": "code",
   "execution_count": 24,
   "metadata": {},
   "outputs": [
    {
     "data": {
      "text/plain": [
       "(0.7005198684695665, 0.7943397002001984, 0.6653321740665695)"
      ]
     },
     "execution_count": 24,
     "metadata": {},
     "output_type": "execute_result"
    }
   ],
   "source": [
    "f['Nc_CDP (cm-3)'].corr(f['Nc_HOLODEC (cm-3)'], method='pearson'), f['Nc_CDP (cm-3)'].autocorr(lag=1), f['Nc_HOLODEC (cm-3)'].autocorr(lag=1)\n",
    "# Data are paired and two are highly correlated, Each is serially correlated."
   ]
  },
  {
   "cell_type": "markdown",
   "metadata": {},
   "source": [
    "#### Using delta"
   ]
  },
  {
   "cell_type": "code",
   "execution_count": 25,
   "metadata": {},
   "outputs": [],
   "source": [
    "Nc_delta = f['Nc_CDP (cm-3)'] - f['Nc_HOLODEC (cm-3)']"
   ]
  },
  {
   "cell_type": "code",
   "execution_count": 26,
   "metadata": {},
   "outputs": [],
   "source": [
    "mean_delta = f['Nc_CDP (cm-3)'].mean() - f['Nc_HOLODEC (cm-3)'].mean()"
   ]
  },
  {
   "cell_type": "code",
   "execution_count": 27,
   "metadata": {},
   "outputs": [
    {
     "data": {
      "text/plain": [
       "-3.726851589067161"
      ]
     },
     "execution_count": 27,
     "metadata": {},
     "output_type": "execute_result"
    }
   ],
   "source": [
    "# Null hypothesis : Two are the same, so mean values of delta is the zero.\n",
    "Z_pair = (mean_delta - 0)/np.sqrt(Nc_delta.var(ddof=1)/len(f))\n",
    "Z_pair"
   ]
  },
  {
   "cell_type": "markdown",
   "metadata": {},
   "source": [
    "### 소결 3-1\n",
    "Paired sample t-test에서 Z = -3.73으로 p-value = Pr{Z < -3.73} < 0.05% << 2.5%\n",
    "\n",
    "즉, 공가설은 기각할 수 있고 대립가설을 채택할 수 있다. 따라서, 두 기기로 측정한 수농도는 다르다."
   ]
  },
  {
   "cell_type": "code",
   "execution_count": 28,
   "metadata": {},
   "outputs": [
    {
     "data": {
      "text/plain": [
       "Ttest_1sampResult(statistic=-3.726851589066879, pvalue=0.00021382840897299458)"
      ]
     },
     "execution_count": 28,
     "metadata": {},
     "output_type": "execute_result"
    }
   ],
   "source": [
    "# scipy library로 해도 비슷한 결과가 나온다. statistic ≃ -3.73, p-value ≃ 0.02% < 0.05%\n",
    "stats.ttest_1samp(f['Nc_CDP (cm-3)']-f['Nc_HOLODEC (cm-3)'], popmean=0)"
   ]
  },
  {
   "cell_type": "markdown",
   "metadata": {},
   "source": [
    "#### Effective size 고려\n",
    "\n",
    "그러나 이 자료가 serially correlated 되어 있으므로 델타의 effective size를 이용해 Z를 다시 구해보자."
   ]
  },
  {
   "cell_type": "code",
   "execution_count": 29,
   "metadata": {},
   "outputs": [
    {
     "data": {
      "text/plain": [
       "120.62325667313041"
      ]
     },
     "execution_count": 29,
     "metadata": {},
     "output_type": "execute_result"
    }
   ],
   "source": [
    "eff_size = len(f) * (1-Nc_delta.autocorr(lag=1))/(1+Nc_delta.autocorr(lag=1))\n",
    "eff_size #delta의 effective sample size"
   ]
  },
  {
   "cell_type": "code",
   "execution_count": 30,
   "metadata": {},
   "outputs": [
    {
     "data": {
      "text/plain": [
       "-1.7390126495831795"
      ]
     },
     "execution_count": 30,
     "metadata": {},
     "output_type": "execute_result"
    }
   ],
   "source": [
    "Z_pair_eff = (mean_delta - 0)/np.sqrt(Nc_delta.var(ddof=1)/eff_size)\n",
    "Z_pair_eff # effective sample size를 고려한 test statistic"
   ]
  },
  {
   "cell_type": "markdown",
   "metadata": {},
   "source": [
    "### 소결 3-2\n",
    "\n",
    "p-value = Pr{Z < -1.74} = 4.09% > 2.5%\n",
    "\n",
    "이 경우 공가설은 기각할 수 없다. 두 기기로 측정한 수농도는 같다고 할 수 있다."
   ]
  },
  {
   "cell_type": "code",
   "execution_count": null,
   "metadata": {},
   "outputs": [],
   "source": []
  }
 ],
 "metadata": {
  "kernelspec": {
   "display_name": "Python 3",
   "language": "python",
   "name": "python3"
  },
  "language_info": {
   "codemirror_mode": {
    "name": "ipython",
    "version": 3
   },
   "file_extension": ".py",
   "mimetype": "text/x-python",
   "name": "python",
   "nbconvert_exporter": "python",
   "pygments_lexer": "ipython3",
   "version": "3.8.3"
  }
 },
 "nbformat": 4,
 "nbformat_minor": 4
}
